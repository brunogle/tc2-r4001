








import numpy as np
import sympy
from pytc2 import sintesis_dipolo, dibujar, remociones

s = sympy.symbols('s', complex=True)

Z = (s**2 + 3)*(s**2 + 1)/(s*(s**2 + 2))

k0, koo, ki, kk, foster_form = sintesis_dipolo.foster(1/Z)
dibujar.dibujar_foster_derivacion(k0, koo, ki, y_exc = 1/Z)









Z = (s**2 + 3)*(s**2 + 1)/(s*(s**2 + 2))

ko, imm_as_cauer, rem = sintesis_dipolo.cauer_LC(Z, remover_en_inf=True)

dibujar.dibujar_cauer_LC(ko, z_exc = imm_as_cauer)






Z = (s**2 + 3)*(s**2 + 1)/(s*(s**2 + 2))

ko, imm_as_cauer, rem = sintesis_dipolo.cauer_LC(Z, remover_en_inf=False)

dibujar.dibujar_cauer_LC(ko, z_exc = imm_as_cauer)



