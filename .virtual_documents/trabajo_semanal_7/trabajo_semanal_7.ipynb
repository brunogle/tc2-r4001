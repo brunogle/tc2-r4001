














import matplotlib.pyplot as plt
import matplotlib.patches as patches
from scipy import signal
from pytc2.sistemas_lineales import bodePlot
import numpy as np
import sympy
from IPython.display import display, Math
sympy.init_printing() 

fs = 100e3

fc = 1e3

gain_3db = 10*np.log10(0.5)


analog_b, analog_a = signal.butter(2, 2*np.pi*fc, analog=True, output='ba')


digital_b, digital_a = signal.bilinear(analog_b, analog_a, fs=fs)
digital_W, digital_H = signal.freqz(digital_b, digital_a, fs=fs, worN=10**4)

fig, ax1 = plt.subplots()
ax2 = ax1.twinx()

print(f"Coeficientes numerador: {digital_b}")
print(f"Coeficientes denominador: {digital_a}")

ax1.plot(digital_W, 20*np.log10(np.abs(digital_H)), label='Magnitud')
ax2.plot(digital_W, np.angle(digital_H), linestyle='dashed', label='Fase')

ax1.set_xscale('log')
ax2.set_xscale('log')
ax1.set_xlabel('Frecuencia Digital (Hz)')
ax1.set_ylabel('Ganancia (dB)')
ax2.set_ylabel('Fase (rad)')
ax2.set_yticks([0, -np.pi/2, -np.pi])

ax1.set_xlim(1e2, fs/2)
ax1.set_ylim(-80, 10)
ax1.grid()
ax1.add_patch(patches.Rectangle((0, -3), fc, -1e9, linewidth=1, facecolor=(1,0,0,0.4)))

gain_at_fc = 20*np.log10(abs(digital_H[(np.abs(digital_W - fc)).argmin()]))

fig.legend()

print(f"Ganancia en frecuencia de corte: {gain_at_fc}")
print(f"Diferencia con -3.01dB: {gain_at_fc - gain_3db}")

plt.show()












fs = 10e3

digital_b, digital_a = signal.bilinear(analog_b, analog_a, fs=fs)

digital_W, digital_H = signal.freqz(digital_b, digital_a, fs=fs, worN=10**4)

fig, ax1 = plt.subplots()
ax2 = ax1.twinx()

ax1.plot(digital_W, 20*np.log10(np.abs(digital_H)), label='Magnitud')
ax2.plot(digital_W, np.angle(digital_H), linestyle='dashed', label='Fase')

print(f"Coeficientes numerador: {digital_b}")
print(f"Coeficientes denominador: {digital_a}")

ax1.set_xscale('log')
ax2.set_xscale('log')
ax1.set_xlabel('Frecuencia Digital (Hz)')
ax1.set_ylabel('Ganancia (dB)')
ax2.set_ylabel('Fase (rad)')
ax2.set_yticks([0, -np.pi/2, -np.pi])

ax1.set_xlim(1e2, fs/2)
ax1.set_ylim(-80, 10)
ax1.grid()
ax1.add_patch(patches.Rectangle((0, -3), fc, -1e9, linewidth=1, facecolor=(1,0,0,0.4)))

gain_at_fc = 20*np.log10(abs(digital_H[(np.abs(digital_W - fc)).argmin()]))

fig.legend()

print(f"Ganancia en frecuencia de corte: {gain_at_fc}")
print(f"Diferencia con -3.01dB: {gain_at_fc - gain_3db}")

plt.show()












fc = 6e3
fs = 100e3

analog_b, analog_a = signal.butter(2, 2*np.pi*fc, analog=True, output='ba', btype='highpass')

digital_b, digital_a = signal.bilinear(analog_b, analog_a, fs=fs)

digital_W, digital_H = signal.freqz(digital_b, digital_a, fs=fs, worN=10**4)

fig, ax1 = plt.subplots()
ax2 = ax1.twinx()

ax1.plot(digital_W[digital_H != 0], 20*np.log10(np.abs(digital_H)[digital_H != 0]), label='Magnitud')
ax2.plot(digital_W, np.angle(digital_H), linestyle='dashed', label='Fase')

print(f"Coeficientes numerador: {digital_b}")
print(f"Coeficientes denominador: {digital_a}")

ax1.set_xscale('log')
ax2.set_xscale('log')
ax1.set_xlabel('Frecuencia Digital (Hz)')
ax1.set_ylabel('Ganancia (dB)')
ax2.set_ylabel('Fase (rad)')
ax2.set_yticks([0, np.pi/2, np.pi])

ax1.set_xlim(1e2, fs/2)
ax1.set_ylim(-80, 10)
ax1.grid()
ax1.add_patch(patches.Rectangle((fc, -3), 1e9, -1e9, linewidth=1, facecolor=(1,0,0,0.4)))

gain_at_fc = 20*np.log10(abs(digital_H[(np.abs(digital_W - fc)).argmin()]))

fig.legend()

print(f"Ganancia en frecuencia de corte: {gain_at_fc}")
print(f"Diferencia con -3.01dB: {gain_at_fc - gain_3db}")

plt.show()





















fs = 10e3

analog_b, analog_a = signal.butter(2, 2*np.pi*fc, analog=True, output='ba')

w_prewarp = 2*np.pi*fc

K_prewarp = w_prewarp/(np.tan(w_prewarp/(2*fs)))

digital_b, digital_a = signal.bilinear(analog_b, analog_a, fs=0.5*K_prewarp)

digital_W, digital_H = signal.freqz(digital_b, digital_a, fs=fs, worN=10**4)

fig, ax1 = plt.subplots()
ax2 = ax1.twinx()

ax1.plot(digital_W, 20*np.log10(np.abs(digital_H)), label='Magnitud')
ax2.plot(digital_W, np.angle(digital_H), linestyle='dashed', label='Fase')

print(f"Coeficientes numerador: {digital_b}")
print(f"Coeficientes denominador: {digital_a}")

ax1.set_xscale('log')
ax2.set_xscale('log')
ax1.set_xlabel('Frecuencia Digital (Hz)')
ax1.set_ylabel('Ganancia (dB)')
ax2.set_ylabel('Fase (rad)')
ax2.set_yticks([0, -np.pi/2, -np.pi])

ax1.set_xlim(1e2, fs/2)
ax1.set_ylim(-80, 10)
ax1.grid()
ax1.add_patch(patches.Rectangle((0, -3), fc, -1e9, linewidth=1, facecolor=(1,0,0,0.4)))

gain_at_fc = 20*np.log10(abs(digital_H[(np.abs(digital_W - fc)).argmin()]))

fig.legend()

print(f"Ganancia en frecuencia de corte: {gain_at_fc}")
print(f"Diferencia con -3.01dB: {gain_at_fc - gain_3db}")

plt.show()



