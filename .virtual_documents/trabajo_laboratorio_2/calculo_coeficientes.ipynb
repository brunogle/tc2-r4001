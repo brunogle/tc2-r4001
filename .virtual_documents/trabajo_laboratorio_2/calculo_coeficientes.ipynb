


from scipy import signal
import numpy as np
import matplotlib.pyplot as plt
import matplotlib as mpl
from pytc2.sistemas_lineales import plot_plantilla
    





# Parametros del filtro

fs = 44100

num_taps= 151

att_pass = 0.1 # dB
att_stop = 20 # dB

wp1 = 1000 #Hz
ws1 = 2000 #Hz

# Calculos

gains_db = np.array([-att_pass, -att_pass, -att_stop, -att_stop])
gains = 10**(gains_db/20)

taps_fir_1 = signal.remez(num_taps, [0.0,  wp1,  ws1,  fs/2], gains[[1,2]], fs=fs)

# Imprimo coeficientes

print("Coeficientes para implementar en codigo:")
print('{', end='')
for i in range(len(taps_fir_1)):
    if(i%8 == 0 and i>0):
        print()
    print(f"{taps_fir_1[i]}", end='')
    if i != len(taps_fir_1)-1:
        print(', ', end='')
print('}')


mpl.rcParams['figure.figsize'] = (13,4)
plt.title('Respuesta de modulo - Filtro A (FIR)')
plt.xlabel('Frecuencia [Hz]')
plt.ylabel('Módulo [dB]')
plt.grid()
plt.axis([-2, fs/4, -60, 10 ]);

#Grafico de modulo teorico
fir_1_W, fir_1_H = signal.freqz(taps_fir_1, fs=fs, worN=10000)
plt.plot(fir_1_W, 20*np.log10(np.abs(fir_1_H)), label="Filtro A")

#Grafico plantilla
plot_plantilla(filter_type = 'lowpass', fpass=wp1, fstop=ws1, ripple=att_pass, attenuation=att_stop, fs = fs)








#Parametros del filtro

wp1 = 2e3
ws1 = 4e3
ws2 = 6e3
wp2 = 8e3

att_pass_db = 0.1
att_stop_db = 20

#Calculo filtro

gains_db = np.array([-att_pass_db, -att_pass_db, -att_stop_db, -att_stop_db, -att_pass_db, -att_pass_db])
gains = 10**(gains_db/20)

taps = signal.firls(num_taps, [0.0, wp1, ws1, ws2, wp2, fs/2], gains, fs=fs)

#Imprimo coeficientes

print("Coeficientes para implementar en codigo:")
print('{', end='')
for i in range(len(taps)):
    if(i%8 == 0 and i>0):
        print()
    print(f"{taps[i]}", end='')
    if i != len(taps)-1:
        print(', ', end='')
print('}')

mpl.rcParams['figure.figsize'] = (13,4)
plt.title('Respuesta de modulo - Filtro B (FIR)')
plt.xlabel('Frecuencia [Hz]')
plt.ylabel('Módulo [dB]')
plt.grid()
plt.axis([-2, fs/4, -60, 10 ]);

#Grafico modulo teorico
fir_W, fir_H = signal.freqz(taps, fs=fs, worN=10000)
plt.plot(fir_W, 20*np.log10(np.abs(fir_H)), label="Filtro FIR")

#Grafico plantilla
plot_plantilla(filter_type = 'bandstop', fpass=[wp1, wp2], fstop=[ws1, ws2], ripple=att_pass, attenuation=att_stop, fs = fs)









#Parametos del filtro

fs = 44.1e3

wc = 2e3
ws = 3e3
att_max_pass_db = 1
att_min_stop_db = 20

# Calculo de coeficientes
iir_sos = signal.iirdesign(wc, ws, att_max_pass_db, att_min_stop_db, ftype='butter', output='sos', analog=False, fs=fs)

a_coef = []
b_coef = []

for sos in iir_sos:
    b_coef.append(sos[:3])
    a_coef.append(sos[3:])

order = len(b_coef)
    
#Redistribucion de ganancias

total_gain = 1
for i in range(order):
    total_gain *= b_coef[i][0]

for i in range(order):
    b_coef[i][1] *= (total_gain**(1/(order)))/b_coef[i][0]
    b_coef[i][2] *= (total_gain**(1/(order)))/b_coef[i][0]
    b_coef[i][0] =  (total_gain**(1/(order)))

#Imprimo coeficientes

print("Coeficientes para implementar en codigo:")
print("{", end='')
for i in range(order):
    print(f"{b_coef[i][0]}, {b_coef[i][1]}, {b_coef[i][2]}, {-a_coef[i][1]}, {-a_coef[i][2]}", end='')
    if i != order-1:
        print(', ')
print("}", end='')

mpl.rcParams['figure.figsize'] = (13,4)
plt.title('Respuesta de modulo - Filtro C (FIR)')
plt.xlabel('Frecuencia [Hz]')
plt.ylabel('Módulo [dB]')
plt.grid()
plt.axis([-2, fs/4, -60, 5 ]);

#Grafico modulo teorico
iir_W, iir_H = signal.sosfreqz(iir_sos, fs=fs, worN=10000)
plt.plot(iir_W, 20*np.log10(np.abs(iir_H)), label="Filtro C")

#Grafico plantilla
plot_plantilla(filter_type = 'lowpass', fpass=wc, fstop=ws, ripple=att_max_pass_db, attenuation=att_min_stop_db, fs = fs)



