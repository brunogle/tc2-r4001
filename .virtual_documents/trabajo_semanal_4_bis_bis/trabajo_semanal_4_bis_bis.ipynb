








import numpy as np
from scipy import signal as signal
from pytc2.sistemas_lineales import analyze_sys, pretty_print_bicuad_omegayq,tfcascade,pretty_print_lti

#parametros del filtro a diseñar
#fp1 y fp2 fueron calculados utilizando las relacion entre Q y ancho de banda.

fp1 = 19.90972 * 10**3
fp2 = 24.30952 * 10**3
fs1 = 17 * 10**3
fs2 = 36 * 10**3





#calculo norma de frecuencia y la aplico a los valores del filtro
norma_w = np.sqrt(fp1*fp2)

wp1_n = fp1 / norma_w 
wp2_n = fp2 / norma_w
ws1_n = fs1 / norma_w
ws2_n = fs2 / norma_w

print("Calculo de las frecuencias de corte normalizadas del filtro objetivo:")
print(f"Wp1_n={wp1_n};  Wp2_n={wp2_n}")
print(f"Ws1_n={ws1_n};  Ws2_n={ws2_n}")
print()

BW = wp2_n - wp1_n
Q = 1/BW

# valores de omega con nucleo de transformacion (para plantilla de pasa bajos)
omega_s1=  Q * (ws1_n**2 - 1)/ws1_n
omega_s2=  Q * (ws2_n**2 - 1)/ws2_n
omega_p1=  Q * (wp1_n**2 - 1)/wp1_n
omega_p2=  Q * (wp2_n**2 - 1)/wp2_n

# elijo los valores mas exigentes para el filtro (valor mas chico en modulo)

omega_s = np.abs( omega_s1)
omega_p = omega_p2

#obtengo los valores de epsilon y n del filtro pasabajos

alpha_max = 0.5
alpha_min = 16

epsilon = np.sqrt((10**(alpha_max/10)) - 1) 
print("Calculo del orden del filtro:")

for n in range(1,5): # veo que numero de N se necesita para la plantilla del PB
    alpha_min_c = 10 * np.log10(1+ epsilon**2 * np.cosh(n * np.arccosh(omega_s))**2 )
    print(f"alpha_min={alpha_min_c} para un n={n}")
    if alpha_min < alpha_min_c:
       alpha_min = alpha_min_c 
       n=3
       break
    n=0
print(f"Filtro de orden N={n} con un epsilon={epsilon}")






# Obtengo raices del denominador de la transferencia pasa bajos al cuadrado

roots = np.roots([-1, 0,-1.5,0,-0.5625,0,0.5122])

print(f"Raices del denominador de la transferencia de potencia del prototipo: {roots}")

# De estas raices debo tomar aquellas que esten en el semiplano izquierdo (parte real negativa)
# Con esto construyo transferencia pasa bajos

roots_izq_filter = np.real(roots) < 0
roots_izq = roots[roots_izq_filter]

denominador_lp = np.poly(roots_izq)

#El numerador es simplemente la raiz del numerador de la transferencia al cuadrado, ya que es una constante.

numerador_lp = [np.sqrt(1/(16*epsilon**2))] 

print(f"\n\nTransferencia obtenida:")
pretty_print_lti(numerador_lp, denominador_lp)





atenuacion_deseada = 0.5  # Atenuación deseada en la banda de paso (en decibeles)
wp = 1 # Frecuencia de corte del filtro (en hertz)
N = 3

numerador, denominador = signal.cheby1(N, atenuacion_deseada, wp, btype='low', analog=True, output='ba')
pretty_print_lti(numerador,denominador)








from sympy.abc import p, s, T
from IPython.display import display
import sympy

def round_expr(expr, num_digits):
    return expr.xreplace({n : round(n, num_digits) for n in expr.atoms(sympy.Number)})

transferencia_lp = sympy.Eq(T, sympy.Poly(numerador_lp, p)/sympy.Poly(denominador_lp, p))
relacion_p_s = sympy.Eq(p, Q * (s**2 + 1)/s)

transferencia = sympy.solve([transferencia_lp, relacion_p_s], [T, p], dict=True)[0][T]

numerador = sympy.fraction(transferencia, s)[0]
denominador = sympy.fraction(transferencia, s)[1]

denominador_coef_principal = denominador.coeff(s,6)

numerador /= denominador_coef_principal
denominador /= denominador_coef_principal

transferencia = numerador/denominador

display(round_expr(transferencia, 5))






atenuacion_banda_paso = 0.5  # Atenuación deseada en la banda de paso (en decibeles)
rizo_bp = 1 # Frecuencia de corte del filtro (en hertz)
order = 3
wp= [wp1_n,wp2_n]

numerador, denominador = signal.cheby1(order,atenuacion_banda_paso,wp, btype='band', analog=True, output='ba')
pretty_print_lti(numerador,denominador)

print(denominador)







num = np.array(numerador)
den = np.array(denominador)
H1 = signal.TransferFunction( num, den )

analyze_sys(H1,"BP Chebby N=3",same_figs=False)






sos = signal.tf2sos(num, den, analog=True)

num1 = [sos[1][4], 0]
den1 = sos[1][3:]

num2 = [sos[0][4], 0]
den2 = sos[0][3:]

num3 = [sos[2][4], 0]
den3 = sos[2][3:]

k = (num[0]/(num1[0]*num2[0]*num3[0]))

print("Transferenica 1")
pretty_print_lti(num1, den1)
print("Transferenica 2")
pretty_print_lti(num2, den2)
print("Transferenica 3")
pretty_print_lti(num3, den3)
print(f"k = {k}")







H2 = signal.TransferFunction( num1, den1 )
H3 = signal.TransferFunction( num2, den2 )
H4 = signal.TransferFunction( num3, den3 )
H = [H2,H3,H4]
analyze_sys(H,["Filto 1","Filto 2","Filtro 3"],same_figs=True)








#Componentes normalizados del filtro

omega1 = np.sqrt(den1[2])
q1 = omega1/den1[1]

print(f"Seccion 1:  omega={omega1}  Q={q1})")
print(f"Seccion 1:  R=1  C={q1/omega1}  L={1/(q1*omega1)})")
print("")

omega2 = np.sqrt(den2[2])
q2 = omega2/den2[1]

print(f"Seccion 2:  omega={omega2}  Q={q2})")
print(f"Seccion 2:  R=1  C={q2/omega2}  L={1/(q2*omega2)})")
print("")

omega3 = np.sqrt(den3[2])
q3 = omega3/den3[1]

print(f"Seccion 3:  omega={omega3}  Q={q3})")
print(f"Seccion 3:  R=1  C={q3/omega3}  L={1/(q3*omega3)})")

print(f"K = {k}")










