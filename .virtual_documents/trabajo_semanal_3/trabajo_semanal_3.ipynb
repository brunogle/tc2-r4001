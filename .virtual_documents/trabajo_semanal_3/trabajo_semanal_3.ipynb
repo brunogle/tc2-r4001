









import numpy as np
import sympy.physics.control.lti as lti
from sympy.physics.control import pole_zero_numerical_data
from sympy.abc import s
import matplotlib.pyplot as plt
import matplotlib.patches as mpatches

%matplotlib inline
plt.rcParams['figure.figsize'] = [16, 5]

ax = plt.gca()
ax.set_box_aspect(1)

eps = 0.5088

TT = lti.TransferFunction(1, 1 - eps**2 * s**6, s)
poles = pole_zero_numerical_data(TT)[1]

plt.scatter(np.real(poles), np.imag(poles), color='b', marker='x', s=200, linewidths=3)
ax.add_patch(plt.Circle((0, 0), eps**(-1/3), color='lightblue', linestyle='--', fill=False))
ax.set_xlabel('$\sigma$')
ax.set_ylabel('j$\omega$')
ax.set_title('Polos y ceros de $|T(s)|^2$')
plt.show()





%matplotlib inline
plt.rcParams['figure.figsize'] = [12, 6]

fig, axs = plt.subplots(2, 4)


for i in range(8):
    ax = axs[i//4][i%4]
    T1_poles = ([poles[4]] if i&1 else [poles[0]]) + ([poles[5]] if i&2 else [poles[1]]) + ([poles[3]] if i&4 else [poles[2]])
    T2_poles = ([poles[4]] if ~i&1 else [poles[0]]) + ([poles[5]] if ~i&2 else [poles[1]]) + ([poles[3]] if ~i&4 else [poles[2]])

    ax.set_box_aspect(1)
    ax.add_patch(plt.Circle((0, 0), eps**(-1/3), color='lightblue', linestyle='--', fill=False))
    ax.scatter(np.real(T1_poles), np.imag(T1_poles), color='b', marker='x', s=100, linewidths=2)
    ax.scatter(np.real(T2_poles), np.imag(T2_poles), color='r', marker='x', s=100, linewidths=2)
    ax.set_title("Opcion " + str(i+1))
    ax.spines['left'].set_position(('data', 0.0))
    ax.spines['bottom'].set_position(('data', 0.0))
    ax.spines['right'].set_color('none')
    ax.spines['top'].set_color('none')

fig.legend(handles=[mpatches.Patch(color='blue', label='Polos de $T(s)$'), mpatches.Patch(color='red', label='Polos de $T(-s)$')], loc='lower center')
plt.show()





from sympy import solve, symbols, Eq, latex, root, simplify
from IPython.display import display, Math, Latex

sym_eps = symbols("\epsilon")

eq_poles_denom = Eq(0, 1 - sym_eps**2 * s**6)

sym_poles = solve(eq_poles_denom, s)

for i in range(6):
    display(Math(f'\large p_{i+1} = ' + (latex(simplify(sym_poles[i], ratio=1.3)))))





from sympy import simplify

T = (sym_eps**(-1))/((s - sym_poles[0])*(s - sym_poles[1])*(s - sym_poles[4]))

simplify(T, evaluate=0)











from pytc2.sistemas_lineales import bodePlot, pzmap, GroupDelay, analyze_sys
import matplotlib as mpl
from matplotlib import pyplot as plt
import numpy as np
from scipy import signal as sig

#%%  Inicialización de librerías
# Setup inline graphics: Esto lo hacemos para que el tamaño de la salida, 
# sea un poco más adecuada al tamaño del documento
plt.figure(1)
plt.close(1)

fig_sz_x = 13
fig_sz_y = 7
fig_dpi = 80 # dpi
fig_font_size = 16

mpl.rcParams['figure.figsize'] = (fig_sz_x, fig_sz_y)
mpl.rcParams['figure.dpi'] = fig_dpi
plt.rcParams.update({'font.size':fig_font_size})


#Configuracion del circuito
w0 = 1

#Funcion de transferencia
tf_num = np.array([eps**(-1)])
tf_den = np.array([1, 2*eps**(-1/3), 2*eps**(-2/3), eps**(-1)])
tf_H = sig.TransferFunction(tf_num, tf_den)

#Bode plot de la libreria pytc2
_, axes_hdl = bodePlot(tf_H)

plt.sca(axes_hdl[0])
plt.ylim([-80,10])

#Diagrama de polos y ceros de la libreria pytc2
pzmap(tf_H)

plt.show()


















