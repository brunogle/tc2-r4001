{
 "cells": [
  {
   "cell_type": "markdown",
   "metadata": {},
   "source": [
    "<p align=\"left\">\n",
    "  <img src=\"./logo_UTN.svg\" />\n",
    "</p>\n",
    "\n",
    "\n",
    "# **Teoría de Circuitos II - R4001 - 2023**\n",
    "## Trabajo Semanal 2\n",
    "### Autor: Bruno Glecer"
   ]
  },
  {
   "cell_type": "markdown",
   "metadata": {},
   "source": [
    "## Consigna\n",
    "\n",
    "La tarea semanal consiste en realizar un analisis del siguiente circuito\n",
    "\n",
    "<div>\n",
    "    <img src=\"circuito.png\" width=\"1000\"/>\n",
    "</div>\n",
    "\n",
    "Se piden las siguientes consignas:\n",
    "\n",
    "1. Hallar la transferencia $T = \\frac{V_o}{V_i}$ en función de $\\omega_0$ y $Q$\n",
    "2. Obtener el valor de los componentes del circuito de forma tal que $\\omega_0 = 1$ y $Q = 3$\n",
    "3. Ajustar el valor de $R_1$ de forma tal que $\\left|T(0)\\right| = 20 db$\n",
    "4. (Bonus) Obtener los valores de la red normalizados en frecuencia e impedancia.\n",
    "5. (TODO) (Bonus) Calcular las sensibilidades $S^{\\omega_0}_C$, $S^{Q}_{R_2}$ y $S^{Q}_{R_3}$.\n",
    "6. (TODO) (Bonus) Recalcular los valores de la red para que cumpla con una transferencia Butterworth.\n",
    "7. (TODO) (Bonus) Cómo podría obtener un circuito pasabanda con los mismos componentes originales y con qué parámetros quedaría diseñado (Ver ejemplo 4.6 en Schaumann).\n",
    "8. (TODO) (Bonus) Simulación circuital de todos los experimentos.\n"
   ]
  },
  {
   "cell_type": "markdown",
   "metadata": {},
   "source": [
    "## 1. Deducción de la función de transferencia\n",
    "\n",
    "Para simplificar el análisis se asumirá que los op-amps se encuentran en equilibrio y su ganancia es arbitrariamente alta. En otras palabras la tensión de entrada diferencial se asumirá que es cero.\n",
    "\n",
    "Primero, le asignamos nombre a todas las corrientes y tensiones desconocidas en el circuito.\n",
    "\n",
    "<div>\n",
    "    <img src=\"circuito_anotado.png\" width=\"800\"/>\n",
    "</div>\n",
    "\n",
    "Por ley de nodos, tenemos:\n",
    "\n",
    "$$I_1 + I_6 = I_2 + I_3$$\n",
    "\n",
    "Seguimos haciendo los remplazos $I_1 = \\frac{V_i}{R_1}$, $I_6 = \\frac{V_o}{R_3}$, $I_2 = -\\frac{V_a}{R_2}$ y $I_3 = - V_a C s$ para obtener:\n",
    "\n",
    "$$\\frac{V_i}{R_1} + \\frac{V_o}{R_3} = -V_a\\left(\\frac{1}{R_2} + C s \\right)$$\n",
    "\n",
    "Remplazando $V_a = I_4 R_3$\n",
    "\n",
    "$$\\frac{V_i}{R_1} + \\frac{V_o}{R_3} = -I_4 R_3\\left(\\frac{1}{R_2} + C s \\right)$$\n",
    "\n",
    "Remplazando $I_4 = - V_b C s$\n",
    "\n",
    "$$\\frac{V_i}{R_1} + \\frac{V_o}{R_3} = V_b R_3 C s\\left(\\frac{1}{R_2} + C s \\right)$$\n",
    "\n",
    "Remplazando $V_b = I_5 R_4$\n",
    "\n",
    "$$\\frac{V_i}{R_1} + \\frac{V_o}{R_3} = I_5 R_4 R_3 C s\\left(\\frac{1}{R_2} + C s \\right)$$\n",
    "\n",
    "Remplazando $I_5 = -\\frac{V_o}{R_4}$\n",
    "\n",
    "$$\\frac{V_i}{R_1} + \\frac{V_o}{R_3} = - V_o R_3 C s\\left(\\frac{1}{R_2} + C s \\right)$$\n",
    "\n",
    "A partir de aca se puede reordenar para encontrar $T = \\frac{V_o}{V_i}$\n",
    "\n",
    "$$T(s) = \\frac{V_o}{V_i} = - \\frac{1}{C^2 R_1 R_3} \\frac{1}{s^2 + \\frac{1}{C R_2}s + \\frac{1}{\\left(C R_3\\right)^2}}$$\n",
    "\n",
    "En este punto podemos notar que se trata de un filtro de segundo orden sin ceros, asi que tiene comportamiento de filtro pasa bajos.\n",
    "Pasamos la funcion de transferencia a su forma estandard en terminos de $\\omega_0$, $Q$ y $K$:\n",
    "\n",
    "$$T(s) = K \\frac{\\omega_0^2}{s^2 + \\frac{\\omega_0}{Q}s + \\omega_0^2} $$\n",
    "\n",
    "Donde:\n",
    "\n",
    "\\begin{align*}\n",
    " \\omega_0 &= \\frac{1}{C R_3}  \\\\\n",
    " Q &= \\frac{R_2}{R_3} \\\\\n",
    " K &= - \\frac{R_3}{R_1}\n",
    "\\end{align*}"
   ]
  },
  {
   "cell_type": "markdown",
   "metadata": {},
   "source": [
    "### Verificación\n",
    "\n",
    "Aprovecho para realizar una verificacion utilizando SymPy modificando el codigo del Trabajo Semanal anterior."
   ]
  },
  {
   "cell_type": "code",
   "execution_count": 1,
   "metadata": {},
   "outputs": [
    {
     "data": {
      "text/latex": [
       "$\\displaystyle - \\frac{R_{2} R_{3}}{R_{1} \\left(C^{2} R_{2} R_{3}^{2} s^{2} + C R_{3}^{2} s + R_{2}\\right)}$"
      ],
      "text/plain": [
       "-R2*R3/(R1*(C**2*R2*R3**2*s**2 + C*R3**2*s + R2))"
      ]
     },
     "execution_count": 1,
     "metadata": {},
     "output_type": "execute_result"
    }
   ],
   "source": [
    "from sympy import solve, symbols, Eq\n",
    "\n",
    "\n",
    "#Variables conocidas\n",
    "R1, R2, R3, R4, C, s = symbols(\"R1 R2 R3 R4 C s\")\n",
    "\n",
    "#Variables desconocidas\n",
    "H, Vi, Vo, I1, I2, I3, I4, I5, I6, Va, Vb = symbols(\"H Vi Vo I1 I2 I3 I4 I5 I6 Va Vb\")\n",
    "unknowns = [H, Vi, Vo, I1, I2, I3, I4, I5, I6, Va, Vb]\n",
    "\n",
    "equations = []\n",
    "\n",
    "#Ecuaciones de mallas\n",
    "equations.append(Eq(Vi, I6*R1))\n",
    "equations.append(Eq(-Va, R2*I1))\n",
    "equations.append(Eq(-Va, I2*1/(C*s)))\n",
    "equations.append(Eq(Va, I3*R3))\n",
    "equations.append(Eq(-Vb, I3*1/(C*s)))\n",
    "equations.append(Eq(Vb, R4*I4))\n",
    "equations.append(Eq(-Vo, I4*R4))\n",
    "equations.append(Eq(Vo, R3*I5))\n",
    "\n",
    "#Ecuaciones de nodos\n",
    "equations.append(Eq(I6 + I5, I1 + I2))\n",
    "\n",
    "#Relacion de H con tensiones\n",
    "equations.append(Eq(H, Vo/Vi))\n",
    "\n",
    "#Resolver\n",
    "sol_H = solve(equations, unknowns, dict=True)[0][H]\n",
    "\n",
    "\n",
    "sol_H"
   ]
  },
  {
   "cell_type": "markdown",
   "metadata": {},
   "source": [
    "## 2/3. Elección de componentes\n",
    "\n",
    "El objetivo propuesto de diseñar el amplificador con parametros $\\omega_0 = 1$ y $Q = 3$ sin otra condición nos lleva a inevitablemente elegir un valor para $C$, $R_2$ o $R_3$. Para este diseño propongo $C=1 \\mu F$ ya que es un valor comerical muy usado y se pueden adquirir facilmente capacitores no polarizados de este valor. Un valor mas bajo para $C$ puede ser mas conventiente de conseguir, pero nos llevaria a valores de resistencias muy altos y eso podria causar otros problemas en la práctica.\n",
    "\n",
    "Esto nos lleva a que:\n",
    "\n",
    "\n",
    "\\begin{align*}\n",
    " R_3 &= \\frac{1}{C \\omega_0} = 1M \\Omega  \\\\\n",
    " R_2 &= Q R_3 = 3M  \\Omega\n",
    "\\end{align*}\n",
    "\n",
    "Si tambien deseamos cumplir con la condicion de ganancia de continua $\\left|T(0)|\\right| = 20dB = 10 \\times$ debemos evaluar la funcion en $s=0$:\n",
    "\n",
    "$$|T(0)| = \\left|K \\frac{\\omega_0^2}{0^2 + \\frac{\\omega_0}{Q} 0^2 + \\omega_0^2}\\right| = \\left|K \\omega_0\\right| = \\left|K\\right| = \\frac{R_3}{R_1} $$\n",
    "\n",
    "Lo que buscamos entonces es: $\\frac{R_3}{R_1} = 10$. Por lo tanto:\n",
    "\n",
    "$$R_1 = 100k \\Omega$$\n",
    "\n",
    "Finalmente, el valor de $R_4$ en la teoría no afecta el funcionamiento del circuito, pero decido usar $R_4 = 100k \\Omega$ para repetir valores.\n",
    "\n",
    "En resumen:\n",
    "\\begin{align*}\n",
    " R_1 &= R_4 = 100 k \\Omega & R_2 &= 3M \\Omega & R_3 &= 1M \\Omega & C &= 1\\mu F\n",
    "\\end{align*}\n"
   ]
  },
  {
   "cell_type": "markdown",
   "metadata": {},
   "source": [
    "## 4. Valores de red normalizados\n",
    "\n",
    "Para normalizar la red  en frecuencia, utilizamos $\\Omega_\\omega = \\omega_0$\n",
    "\n",
    "Por ende, la variable compleja de frecuencia normalizada resulta ser: $\\$ = \\frac{s}{\\Omega_\\omega} = \\frac{s}{\\omega_0}$\n",
    "\n",
    "Y para normalizar en impedancia, utilizaremos $\\Omega_z = R_3$. Decidí utilizar (de forma heurística) $R_3$ ya que aparece en la expresión de $\\omega_0$ y $Q$, entonces es mas probable de que resulte en mejores simplificaciones de otras variables o componentes.\n",
    "\n",
    "Los valores de los componentes normalizados resultan:\n",
    "\n",
    "\\begin{align*}\n",
    " R_1' &= \\frac{R_1}{\\Omega_z} = -\\frac{1}{K}  \\\\\n",
    " R_2' &= \\frac{R_2}{\\Omega_z} = \\frac{Q R_3}{\\Omega_z} = Q \\\\\n",
    " R_3' &= \\frac{R_3}{\\Omega_z} = 1 \\\\\n",
    " R_4' &= \\frac{R_4}{\\Omega_z}\\\\\n",
    " C'   &= \\Omega_\\omega \\Omega_z C = \\frac{\\Omega_\\omega \\Omega_z}{\\omega_0 R_3} = 1\n",
    "\\end{align*}\n",
    "\n",
    "Y la función de transferencia normalizada en frecuencia e impedancia resulta:\n",
    "\n",
    "$$ T(s) = K \\frac{1}{\\$^2 + \\frac{1}{Q}\\$ + 1} $$\n",
    "\n",
    "Y la representacion gráfica de la red normalizada:\n",
    "\n",
    "<div>\n",
    "    <img src=\"circuito_normalizado.png\" width=\"800\"/>\n",
    "</div>"
   ]
  }
 ],
 "metadata": {
  "kernelspec": {
   "display_name": "Python 3 (ipykernel)",
   "language": "python",
   "name": "python3"
  },
  "language_info": {
   "codemirror_mode": {
    "name": "ipython",
    "version": 3
   },
   "file_extension": ".py",
   "mimetype": "text/x-python",
   "name": "python",
   "nbconvert_exporter": "python",
   "pygments_lexer": "ipython3",
   "version": "3.11.0"
  }
 },
 "nbformat": 4,
 "nbformat_minor": 4
}
