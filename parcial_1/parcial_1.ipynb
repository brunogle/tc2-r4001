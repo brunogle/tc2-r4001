{
 "cells": [
  {
   "cell_type": "markdown",
   "metadata": {},
   "source": [
    "<p align=\"left\">\n",
    "  <img src=\"./logo_UTN.svg\" />\n",
    "</p>\n",
    "\n",
    "\n",
    "# **Teoría de Circuitos II - R4001 - 2023**\n",
    "## Primer Parcial - Regimen especial de evaluacion\n",
    "### Autor: Bruno Glecer\n",
    "\n",
    "\n",
    "# Problema 1\n",
    "## a)\n",
    "\n",
    "<div>\n",
    "    <img src=\"1a.jpg\" width=\"700\"/>\n",
    "</div>\n",
    "\n",
    "Para encontrar los polos de $|T(s)|^2$ y quedarnos solo con los del semiplano izquierdo, me ayudo con la libreria numpy de python"
   ]
  },
  {
   "cell_type": "code",
   "execution_count": 52,
   "metadata": {},
   "outputs": [
    {
     "name": "stdout",
     "output_type": "stream",
     "text": [
      "[1.         1.09773433 1.10251033]\n"
     ]
    },
    {
     "data": {
      "text/latex": [
       "$\\displaystyle \\frac{0.9826 }{s^2 + s \\,\\, 1.098 + 1.103 }$"
      ],
      "text/plain": [
       "<IPython.core.display.Math object>"
      ]
     },
     "metadata": {},
     "output_type": "display_data"
    }
   ],
   "source": [
    "import numpy as np\n",
    "from scipy import signal\n",
    "import scipy\n",
    "from IPython.display import display\n",
    "from pytc2.sistemas_lineales import analyze_sys, pretty_print_bicuad_omegayq,tfcascade,pretty_print_lti,bodePlot,tf2sos_analog\n",
    "\n",
    "\n",
    "ripple = 1\n",
    "\n",
    "epsilon = np.sqrt(10**(ripple/10) - 1)\n",
    "\n",
    "polos_TLP2 = np.roots([1, 0, 1, 0, (epsilon**2 + 1)/(4*epsilon**2)])\n",
    "\n",
    "polos_TLP = polos_T2[np.real(polos_TLP2) < 0]\n",
    "\n",
    "den_TLP = np.poly(polos_TLP)\n",
    "\n",
    "print(den_TLP)\n",
    "\n",
    "num_TLP = [np.sqrt(1/(4*epsilon**2))]\n",
    "\n",
    "pretty_print_lti(num_TLP, den_TLP)\n"
   ]
  },
  {
   "cell_type": "markdown",
   "metadata": {},
   "source": [
    "Asi finaliza el desarrollo de la transferencia del prototipo. Continuamos verificando con scipy"
   ]
  },
  {
   "cell_type": "code",
   "execution_count": 59,
   "metadata": {},
   "outputs": [
    {
     "data": {
      "text/latex": [
       "$\\displaystyle \\frac{0.9826 }{s^2 + s \\,\\, 1.098 + 1.103 }$"
      ],
      "text/plain": [
       "<IPython.core.display.Math object>"
      ]
     },
     "metadata": {},
     "output_type": "display_data"
    }
   ],
   "source": [
    "n=2\n",
    "w_0 = 1\n",
    "\n",
    "num_TLP_scipy, den_TLP_scipy = signal.cheby1(n, ripple, w_0, btype='lowpass', analog=True)\n",
    "\n",
    "\n",
    "pretty_print_lti(num_TLP_scipy, den_TLP_scipy)"
   ]
  },
  {
   "cell_type": "markdown",
   "metadata": {},
   "source": [
    "Verifica bien"
   ]
  },
  {
   "cell_type": "markdown",
   "metadata": {},
   "source": [
    "## b)\n",
    "\n",
    "<div>\n",
    "    <img src=\"1b.png\" width=\"700\"/>\n",
    "</div>\n",
    "\n",
    "Asi finaliza el desarrollo manual de la transferencia final del filtro pasa banda.\n",
    "Esto tambien se puede verificar con scipy"
   ]
  },
  {
   "cell_type": "code",
   "execution_count": 70,
   "metadata": {},
   "outputs": [
    {
     "data": {
      "text/latex": [
       "$\\displaystyle \\frac{s^2 \\,\\, 0.009826 }{s^4 + s^3 \\,\\, 0.1098 + s^2 \\,\\, 2.011 + s \\,\\, 0.1098 +   1 }$"
      ],
      "text/plain": [
       "<IPython.core.display.Math object>"
      ]
     },
     "metadata": {},
     "output_type": "display_data"
    }
   ],
   "source": [
    "num_T_scipy, den_T_scipy  = signal.lp2bp(num_TLP_scipy, den_TLP_scipy, 1, 0.1)\n",
    "\n",
    "pretty_print_lti(num_T_scipy, den_T_scipy)"
   ]
  },
  {
   "cell_type": "markdown",
   "metadata": {},
   "source": [
    "Verifica bien."
   ]
  },
  {
   "cell_type": "markdown",
   "metadata": {},
   "source": [
    "## c)\n",
    "\n",
    "\n",
    "Para sinteizar el circuito, primero debemos separar $T(s)$ en etapas de orden 1 o 2. En este caso al ser de orden 4, es posible separarla en 2 etapas de orden 2.\n",
    "\n",
    "Para esto podemos utilizar la libreria pytc2 que nos provee con una funcion conventiente"
   ]
  },
  {
   "cell_type": "code",
   "execution_count": 65,
   "metadata": {
    "scrolled": true
   },
   "outputs": [
    {
     "data": {
      "text/latex": [
       "$\\displaystyle \\frac{s \\,\\, 0.04923 }{s^2 + s \\,\\, 0.05243 + 0.9144 }$"
      ],
      "text/plain": [
       "<IPython.core.display.Math object>"
      ]
     },
     "metadata": {},
     "output_type": "display_data"
    },
    {
     "data": {
      "text/latex": [
       "$\\displaystyle \\frac{s \\,\\, 0.1996 }{s^2 + s \\,\\, 0.05734 + 1.094 }$"
      ],
      "text/plain": [
       "<IPython.core.display.Math object>"
      ]
     },
     "metadata": {},
     "output_type": "display_data"
    }
   ],
   "source": [
    "t_sos = tf2sos_analog(num_T_scipy, den_T_scipy)\n",
    "\n",
    "\n",
    "omega_0_etapa = [] #Variables para guardar los parametros de cada etapa\n",
    "q_etapa = []\n",
    "k_etapa = []\n",
    "\n",
    "i = 0\n",
    "for etapa in t_sos:\n",
    "    i+=1\n",
    "    omega_0_etapa.append( np.sqrt(etapa[5]) ) #Calculo los parametros para cada etapa\n",
    "    q_etapa.append( np.sqrt(etapa[5])/etapa[4] )\n",
    "    k_etapa.append( (etapa[1]) )\n",
    "    pretty_print_lti(etapa[:3], etapa[3:])\n",
    "    \n",
    "n_etapas = i\n"
   ]
  },
  {
   "cell_type": "markdown",
   "metadata": {},
   "source": [
    "La etapa que decidi utilizar es la siguiente:\n",
    "\n",
    "<div>\n",
    "    <img src=\"1c_1.png\" width=\"700\"/>\n",
    "</div>\n"
   ]
  },
  {
   "cell_type": "markdown",
   "metadata": {},
   "source": [
    "Nos ayudamos con python para encontrar los valores de $\\omega_0$, $Q$ y $K$ de cada etapa"
   ]
  },
  {
   "cell_type": "code",
   "execution_count": 66,
   "metadata": {},
   "outputs": [
    {
     "name": "stdout",
     "output_type": "stream",
     "text": [
      "\n",
      "Etapa 1 :  omega_0=0.9562285621575632     q=18.23759710273597     k=0.049232478906525955\n",
      "Etapa 2 :  omega_0=1.0457750788615587     q=18.23759710273596     k=0.19958640840445\n",
      ".param r1=1000 rq1=18237.597102735966 rk1=20311.794616286246 c1=0.001045775078861558 \n",
      ".param r2=1000 rq2=18237.597102735963 rk2=5010.361216448965 c2=0.0009562285621575626 \n",
      "\n"
     ]
    }
   ],
   "source": [
    "\n",
    "print()\n",
    "for i in range(n_etapas):\n",
    "    print(f\"Etapa {i+1} :  omega_0={omega_0_etapa[i]}     q={q_etapa[i]}     k={k_etapa[i]}\")\n",
    "\n",
    "z_norma=1000\n",
    "w_norma=1\n",
    "\n",
    "directivo = \"\"\n",
    "\n",
    "for i in range(n_etapas):\n",
    "\n",
    "    r = z_norma\n",
    "    rq = z_norma * q_etapa[i]\n",
    "    rk = z_norma / k_etapa[i]\n",
    "    c = 1/(z_norma * w_norma * omega_0_etapa[i])\n",
    "    \n",
    "    directivo += f\".param r{i+1}={r} rq{i+1}={rq} rk{i+1}={rk} c{i+1}={c} \\n\"\n",
    "\n",
    "print(directivo)"
   ]
  },
  {
   "cell_type": "markdown",
   "metadata": {},
   "source": [
    "<div>\n",
    "    <img src=\"1c_2.png\" width=\"700\"/>\n",
    "</div>\n",
    "\n",
    "Como las etapas que usamos, todas tienen una ganancia $K=1$, la atenuacion es implementada al final del sistema mediante un divisor resistivo."
   ]
  },
  {
   "attachments": {},
   "cell_type": "markdown",
   "metadata": {},
   "source": [
    "# d)\n",
    "\n",
    "\n",
    "<div>\n",
    "    <img src=\"1d.png\" width=\"700\"/>\n",
    "</div>\n",
    "\n",
    "\n",
    "\n",
    "Otra opcion es remplazar los inductores por un GIC con una reactancia imaginaria positiva para remplazar los inductores, si bien este metodo requiere de un amplificador operacional menos, la estructura Ackerberg-Mossberg presenta mejores sensibilidades y permite ecuaciones de diseño mas sensillas. Tambien tiene la ventaja de que la atenuacion por $K$ se divide entre las etapas en lugar de estas localizada en un solo lugar.\n"
   ]
  },
  {
   "cell_type": "markdown",
   "metadata": {},
   "source": [
    "# Problema 2\n",
    "\n",
    "## a)\n",
    "\n",
    "<div>\n",
    "    <img src=\"2a.png\" width=\"700\"/>\n",
    "</div>\n",
    "\n",
    "## b)\n",
    "\n",
    "<div>\n",
    "    <img src=\"2b.png\" width=\"700\"/>\n",
    "</div>\n",
    "\n",
    "Al finalizar el punto me di cuenta de que habia incluido inecesariamente R1, y esto hace que no se respete una relacion lineal entre las impedancias como la que se esperaba.\n",
    "\n",
    "Tambien, me descuidé y lo arme utilizando resistencias en lugar de impedancias genericas, anulando el proposito del conversor, pero generaliza bien si se remplaza $R_i$ por $Z_i$.\n",
    "\n"
   ]
  },
  {
   "cell_type": "markdown",
   "metadata": {},
   "source": [
    "# Problema 3\n",
    "\n",
    "No llegue por tiempo\n"
   ]
  }
 ],
 "metadata": {
  "kernelspec": {
   "display_name": "Python 3 (ipykernel)",
   "language": "python",
   "name": "python3"
  },
  "language_info": {
   "codemirror_mode": {
    "name": "ipython",
    "version": 3
   },
   "file_extension": ".py",
   "mimetype": "text/x-python",
   "name": "python",
   "nbconvert_exporter": "python",
   "pygments_lexer": "ipython3",
   "version": "3.11.4"
  }
 },
 "nbformat": 4,
 "nbformat_minor": 4
}
