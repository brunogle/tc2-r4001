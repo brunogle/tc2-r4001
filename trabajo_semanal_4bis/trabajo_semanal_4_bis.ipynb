{
 "cells": [
  {
   "cell_type": "markdown",
   "metadata": {},
   "source": [
    "<p align=\"left\">\n",
    "  <img src=\"./logo_UTN.svg\" />\n",
    "</p>\n",
    "\n",
    "\n",
    "# **Teoría de Circuitos II - R4001 - 2023**\n",
    "## Trabajo Semanal 4\n",
    "### Autor: Bruno Glecer"
   ]
  },
  {
   "cell_type": "markdown",
   "metadata": {},
   "source": [
    "# Consigna\n",
    "\n",
    "La tarea semanal consiste en diseñar un filtro pasa-banda con las siguientes caracteristicas\n",
    "\n",
    "- Frecuencia de corte inferior $f_{ci} = 1600\\mathrm{kHz}$\n",
    "- Frecuencia de corte superior $f_{cs} = 2500\\mathrm{kHz}$\n",
    "- Ripple maximo en la banda de paso: $3\\mathrm{dB}$\n",
    "- Maxima planicidad en la banda de paso\n",
    "- Ganancia maxima en la banda de paso: $10\\mathrm{dB}$\n",
    "- Atenuacion minima de $\\alpha_{min} = 20\\mathrm{dB}$ a las frecuencias $1250\\mathrm{kHz}$ y $3200\\mathrm{kHz}$\n",
    "Se piden las siguientes consignas:\n",
    "\n",
    "Se pide:\n",
    "\n",
    "1. Obtener la funcion de transferencia normalizada del filtro\n",
    "2. Graficar el diagrama de polos y ceros\n",
    "3. Graficar la transferencia (modulo y fase) del filtro pedido\n",
    "4. Sintetizar el filtro utilizando estructuras Ackeberg-Mossberg\n",
    "5. Simular el filtro obtenido, verificando las especificaciones de diseño.\n",
    "\n"
   ]
  },
  {
   "cell_type": "markdown",
   "metadata": {},
   "source": [
    "# 1. Transferencia\n",
    "\n",
    "Comenzamos normalizando los parametros del filtro usando la frecuencia central $\\omega_0 = \\sqrt{\\omega_{ci} \\omega_{cs}}$ como norma para diseñar el pasabajos prototipo y luego aplicar la transformacion en frecuencia utilizando el nucleo $p = K(s) = Q\\dfrac{s^2 + 1}{s}$"
   ]
  },
  {
   "cell_type": "code",
   "execution_count": 1,
   "metadata": {},
   "outputs": [
    {
     "name": "stdout",
     "output_type": "stream",
     "text": [
      "Frecuencias de paso: (0.7999999999999999 ,  1.2500000000000002)\n",
      "Frecuencias de corte: (0.6250000000000001  a  1.5999999999999999)\n"
     ]
    }
   ],
   "source": [
    "import numpy as np\n",
    "\n",
    "#Uso los nombres de f_1 y f_2 para las frecuencias de paso y f_s1 y f_s2 para las frecuencias de corte\n",
    "\n",
    "f_p1 = 1600*10**3\n",
    "f_p2 = 2500*10**3\n",
    "\n",
    "f_s1 = 1250*10**3\n",
    "f_s2 = 3200*10**3\n",
    "\n",
    "#Caluclos de los parametros del filtro\n",
    "\n",
    "f_0 = np.sqrt(f_p1*f_p2)\n",
    "bw = f_p2 - f_p1\n",
    "q_filtro = f_0/bw\n",
    "\n",
    "#Paso a frecuencia angular y normalizo\n",
    "\n",
    "w_norma = f_0 * 2*np.pi\n",
    "\n",
    "w_0  = 1\n",
    "\n",
    "w_p1 = f_p1 * 2*np.pi / w_norma\n",
    "w_p2 = f_p2 * 2*np.pi / w_norma\n",
    "\n",
    "w_s1 = f_s1 * 2*np.pi / w_norma\n",
    "w_s2 = f_s2 * 2*np.pi / w_norma\n",
    "\n",
    "print(f\"Frecuencias de paso: ({w_p1} ,  {w_p2})\")\n",
    "print(f\"Frecuencias de corte: ({w_s1}  a  {w_s2})\")"
   ]
  },
  {
   "cell_type": "markdown",
   "metadata": {},
   "source": [
    "Para obtener los parametros del filtro prototipo que debemos diseñar, tenemos que elegir los valores de frecuencia tal que imponga las restricciones mas fuertes en el caso de que la plantilla no sea simetrica."
   ]
  },
  {
   "cell_type": "code",
   "execution_count": 2,
   "metadata": {
    "scrolled": true
   },
   "outputs": [
    {
     "name": "stdout",
     "output_type": "stream",
     "text": [
      "Frecuencias de paso: (-1.0000000000000004 ,  1.000000000000001)\n",
      "Frecuencias de corte: (-2.1666666666666656  a  2.1666666666666665)\n"
     ]
    }
   ],
   "source": [
    "#Transformo los parametros del filtro pasabanda al filtro prototipos usando el nucleo de transformacion:\n",
    "\n",
    "def nucleo_wi(w):\n",
    "    return q_filtro*((w**2 - 1)/w) #El nucleo es diferente al definido porque esta formula es para transformar el valor absoluto de frecuencia imaginaria, no compleja.\n",
    "\n",
    "w_p1_lp = nucleo_wi(w_p1)\n",
    "w_p2_lp = nucleo_wi(w_p2)\n",
    "\n",
    "w_s1_lp = nucleo_wi(w_s1)\n",
    "w_s2_lp = nucleo_wi(w_s2)\n",
    "\n",
    "\n",
    "print(f\"Frecuencias de paso: ({w_p1_lp} ,  {w_p2_lp})\")\n",
    "print(f\"Frecuencias de corte: ({w_s1_lp}  a  {w_s2_lp})\")\n",
    "\n"
   ]
  },
  {
   "cell_type": "markdown",
   "metadata": {},
   "source": [
    "Seguimos eligiendo los valores de frecuencias para el pasa bajos prototipo de forma que ponga la mayor exigencia posible"
   ]
  },
  {
   "cell_type": "code",
   "execution_count": 3,
   "metadata": {},
   "outputs": [
    {
     "name": "stdout",
     "output_type": "stream",
     "text": [
      "Frecuencia de paso: 1.0000000000000004\n",
      "Frecuencia de corte: 2.1666666666666656\n"
     ]
    }
   ],
   "source": [
    "w_p_lp = min(abs(w_p1_lp), abs(w_p2_lp))\n",
    "w_s_lp = min(abs(w_s1_lp), abs(w_s2_lp))\n",
    "\n",
    "print(f\"Frecuencia de paso: {w_p_lp}\")\n",
    "print(f\"Frecuencia de corte: {w_s_lp}\")\n",
    "\n"
   ]
  }
 ],
 "metadata": {
  "kernelspec": {
   "display_name": "Python 3 (ipykernel)",
   "language": "python",
   "name": "python3"
  },
  "language_info": {
   "codemirror_mode": {
    "name": "ipython",
    "version": 3
   },
   "file_extension": ".py",
   "mimetype": "text/x-python",
   "name": "python",
   "nbconvert_exporter": "python",
   "pygments_lexer": "ipython3",
   "version": "3.11.3"
  }
 },
 "nbformat": 4,
 "nbformat_minor": 4
}
