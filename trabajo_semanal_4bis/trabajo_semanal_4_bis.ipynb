{
 "cells": [
  {
   "cell_type": "markdown",
   "metadata": {},
   "source": [
    "<p align=\"left\">\n",
    "  <img src=\"./logo_UTN.svg\" />\n",
    "</p>\n",
    "\n",
    "\n",
    "# **Teoría de Circuitos II - R4001 - 2023**\n",
    "## Trabajo Semanal 4\n",
    "### Autor: Bruno Glecer"
   ]
  },
  {
   "cell_type": "markdown",
   "metadata": {},
   "source": [
    "# Consigna\n",
    "\n",
    "La tarea semanal consiste en diseñar un filtro pasa-banda con las siguientes caracteristicas\n",
    "\n",
    "- Frecuencia de corte inferior $f_{ci} = 1600\\mathrm{kHz}$\n",
    "- Frecuencia de corte superior $f_{cs} = 2500\\mathrm{kHz}$\n",
    "- Ripple maximo en la banda de paso: $3\\mathrm{dB}$\n",
    "- Maxima planicidad en la banda de paso\n",
    "- Ganancia maxima en la banda de paso: $10\\mathrm{dB}$\n",
    "- Atenuacion minima de $\\alpha_{min} = 20\\mathrm{dB}$ a las frecuencias $1250\\mathrm{kHz}$ y $3200\\mathrm{kHz}$\n",
    "Se piden las siguientes consignas:\n",
    "\n",
    "Se pide:\n",
    "\n",
    "1. Obtener la funcion de transferencia normalizada del filtro\n",
    "2. Graficar el diagrama de polos y ceros\n",
    "3. Graficar la transferencia (modulo y fase) del filtro pedido\n",
    "4. Sintetizar el filtro utilizando estructuras Ackeberg-Mossberg\n",
    "5. Simular el filtro obtenido, verificando las especificaciones de diseño.\n",
    "\n"
   ]
  },
  {
   "cell_type": "markdown",
   "metadata": {},
   "source": [
    "# 1. Transferencia\n",
    "\n",
    "Comenzamos normalizando los parametros del filtro usando la frecuencia central $\\omega_0 = \\sqrt{\\omega_{ci} \\omega_{cs}}$ como norma para diseñar el pasabajos prototipo y luego aplicar la transformacion en frecuencia utilizando el nucleo $p = K(s) = Q\\dfrac{s^2 + 1}{s}$"
   ]
  },
  {
   "cell_type": "code",
   "execution_count": 20,
   "metadata": {},
   "outputs": [
    {
     "name": "stdout",
     "output_type": "stream",
     "text": [
      "Frecuencias de paso: (0.7999999999999999 a  1.2500000000000002)\n",
      "Frecuencias de corte: (0.6250000000000001  a  1.5999999999999999)\n"
     ]
    }
   ],
   "source": [
    "import numpy as np\n",
    "\n",
    "#Uso los nombres de f_1 y f_2 para las frecuencias de paso y f_s1 y f_s2 para las frecuencias de corte\n",
    "\n",
    "f_p1 = 1600*10**3\n",
    "f_p2 = 2500*10**3\n",
    "\n",
    "f_s1 = 1250*10**3\n",
    "f_s2 = 3200*10**3\n",
    "\n",
    "alpha_max = 3\n",
    "alpha_min = 20\n",
    "\n",
    "#Caluclos de los parametros del filtro\n",
    "\n",
    "f_0 = np.sqrt(f_p1*f_p2)\n",
    "bw = f_p2 - f_p1\n",
    "q_filtro = f_0/bw\n",
    "\n",
    "#Paso a frecuencia angular y normalizo\n",
    "\n",
    "w_norma = f_0 * 2*np.pi\n",
    "\n",
    "w_0  = 1\n",
    "\n",
    "w_p1 = f_p1 * 2*np.pi / w_norma\n",
    "w_p2 = f_p2 * 2*np.pi / w_norma\n",
    "\n",
    "w_s1 = f_s1 * 2*np.pi / w_norma\n",
    "w_s2 = f_s2 * 2*np.pi / w_norma\n",
    "\n",
    "print(f\"Frecuencias de paso: ({w_p1} a  {w_p2})\")\n",
    "print(f\"Frecuencias de corte: ({w_s1}  a  {w_s2})\")\n"
   ]
  },
  {
   "cell_type": "markdown",
   "metadata": {},
   "source": [
    "Para obtener los parametros del filtro prototipo que debemos diseñar, tenemos que elegir los valores de frecuencia tal que imponga las restricciones mas fuertes en el caso de que la plantilla no sea simetrica."
   ]
  },
  {
   "cell_type": "code",
   "execution_count": 5,
   "metadata": {
    "scrolled": true
   },
   "outputs": [
    {
     "name": "stdout",
     "output_type": "stream",
     "text": [
      "Opciones de frecuencia de paso prototipo: (-1.0000000000000004 ,  1.0000000000000007)\n",
      "Opciones de frecuencia de corte prototipo: (-2.166666666666666  a  2.1666666666666665)\n"
     ]
    }
   ],
   "source": [
    "#Transformo los parametros del filtro pasabanda al filtro prototipos usando el nucleo de transformacion:\n",
    "\n",
    "def nucleo_wi(w):\n",
    "    return q_filtro*((w**2 - 1)/w) #El nucleo es diferente al definido porque esta formula es para transformar el valor absoluto de frecuencia imaginaria, no compleja.\n",
    "\n",
    "w_p1_lp = nucleo_wi(w_p1)\n",
    "w_p2_lp = nucleo_wi(w_p2)\n",
    "\n",
    "w_s1_lp = nucleo_wi(w_s1)\n",
    "w_s2_lp = nucleo_wi(w_s2)\n",
    "\n",
    "\n",
    "print(f\"Opciones de frecuencia de paso prototipo: ({w_p1_lp} ,  {w_p2_lp})\")\n",
    "print(f\"Opciones de frecuencia de corte prototipo: ({w_s1_lp}  a  {w_s2_lp})\")\n",
    "\n"
   ]
  },
  {
   "cell_type": "markdown",
   "metadata": {},
   "source": [
    "Seguimos eligiendo los valores de frecuencias para el pasa bajos prototipo de forma que ponga la mayor exigencia posible"
   ]
  },
  {
   "cell_type": "code",
   "execution_count": 7,
   "metadata": {
    "tags": []
   },
   "outputs": [
    {
     "name": "stdout",
     "output_type": "stream",
     "text": [
      "Frecuencia de paso prototipo: 1.0000000000000004\n",
      "Frecuencia de corte prototipo: 2.166666666666666\n"
     ]
    }
   ],
   "source": [
    "w_p_lp = min(abs(w_p1_lp), abs(w_p2_lp))\n",
    "w_s_lp = min(abs(w_s1_lp), abs(w_s2_lp))\n",
    "\n",
    "print(f\"Frecuencia de paso prototipo: {w_p_lp}\")\n",
    "print(f\"Frecuencia de corte prototipo: {w_s_lp}\")\n"
   ]
  },
  {
   "cell_type": "markdown",
   "metadata": {},
   "source": [
    "Como es de esperar, la frecuencia de paso resulta igual a 1 debido a la normaizacion inicial. El filtro prototipo se debe diseñar para que el ripple maximo en la banda de paso sea de $\\alpha_{max} = 3\\mathrm{dB}$ y una atenuacion en la frecuencia de corte minima de $\\alpha_{min} = 20dB$. Pasamos entonces a calcular los parametros del filtro prototipo\n",
    "\n"
   ]
  },
  {
   "cell_type": "code",
   "execution_count": 12,
   "metadata": {
    "tags": []
   },
   "outputs": [
    {
     "name": "stdout",
     "output_type": "stream",
     "text": [
      "epsilon = 0.9976283451109834    n = 3   alpha_ws = 20.168877004136377\n"
     ]
    }
   ],
   "source": [
    "#Calculo de epsilon\n",
    "\n",
    "epsilon = np.sqrt(10**(alpha_max/10) - 1)\n",
    "\n",
    "#Calculo de orden\n",
    "\n",
    "n = 1\n",
    "\n",
    "while (10*np.log10(1 + epsilon**2 * w_s_lp ** (2*n))) < alpha_min:\n",
    "    n += 1\n",
    "    \n",
    "alpha_ws = 10*np.log10(1 + epsilon**2 * w_s_lp ** (2*n))\n",
    "\n",
    "    \n",
    "print(f\"epsilon = {epsilon}    n = {n}   alpha_ws = {alpha_ws}\")"
   ]
  },
  {
   "cell_type": "markdown",
   "metadata": {},
   "source": [
    "El filtro al tener una atenuacion maxima en la banda de paso de 3dB, corresponde a un filtro Butterworth ($\\varepsilon=1$), entonces no es necesario desnormalizar con la frecuencia de Butterworth.\n",
    "\n",
    "Continuamos calculando los polos del filtro utilizando la propiedad de separacion angular constante entre los polos de un filtro de maxima planicidad.\n",
    "\n",
    "$T_{LP}(p) = \\dfrac{1}{\\left(p + 1\\right) \\left(p^2 + 2 cos \\left(\\dfrac{\\pi}{3}\\right)p + 1 \\right)} = \\dfrac{1}{p^3 + 2p^2 + 2p + 1}$\n",
    "\n",
    "Remplazando $p$ por el nucleo de transformacion, podemos encontrar la transferencia del filtro pasabanda\n",
    "\n"
   ]
  },
  {
   "cell_type": "code",
   "execution_count": 59,
   "metadata": {
    "tags": []
   },
   "outputs": [
    {
     "data": {
      "text/latex": [
       "$\\displaystyle \\frac{s^3 \\,\\, 0.09113 }{s^6 + s^5 \\,\\, 0.9 + s^4 \\,\\, 3.405 + s^3 \\,\\, 1.891 + s^2 \\,\\, 3.405 + s \\,\\, 0.9 +   1 }$"
      ],
      "text/plain": [
       "<IPython.core.display.Math object>"
      ]
     },
     "metadata": {},
     "output_type": "display_data"
    },
    {
     "data": {
      "text/latex": [
       "$\\displaystyle \\frac{s^3 \\,\\, 0.09113 }{s^6 + s^5 \\,\\, 0.9 + s^4 \\,\\, 3.405 + s^3 \\,\\, 1.891 + s^2 \\,\\, 3.405 + s \\,\\, 0.9 +   1 }$"
      ],
      "text/plain": [
       "<IPython.core.display.Math object>"
      ]
     },
     "metadata": {},
     "output_type": "display_data"
    },
    {
     "name": "stdout",
     "output_type": "stream",
     "text": [
      "(array([0.091125, 0.      , 0.      , 0.      ]), array([1.      , 0.9     , 3.405   , 1.891125, 3.405   , 0.9     ,\n",
      "       1.      ]))\n",
      "[0.7999999999999999, 1.2500000000000002]\n"
     ]
    }
   ],
   "source": [
    "import scipy.signal\n",
    "from IPython.display import display\n",
    "from pytc2.sistemas_lineales import analyze_sys, pretty_print_bicuad_omegayq,tfcascade,pretty_print_lti\n",
    "\n",
    "t = signal.butter(3, [w_p1, w_p2], btype='bandpass', analog=True)\n",
    "\n",
    "tlp = signal.butter(3, 1, btype='lowpass', analog=True)\n",
    "t2 = signal.lp2bp(tlp[0], tlp[1], 1, 0.45)\n",
    "\n",
    "pretty_print_lti(t[0], t[1])\n",
    "pretty_print_lti(t2[0], t2[1])\n",
    "print(t2)\n",
    "print( [w_p1, w_p2])"
   ]
  },
  {
   "cell_type": "code",
   "execution_count": 51,
   "metadata": {
    "tags": []
   },
   "outputs": [
    {
     "data": {
      "text/latex": [
       "$\\displaystyle \\frac{729.0 s^{3}}{\\left(20.0 s^{2} + 9.0 s + 20.0\\right) \\left(400.0 s^{4} + 180.0 s^{3} + 881.0 s^{2} + 180.0 s + 400.0\\right)}$"
      ],
      "text/plain": [
       "729.0*s**3/((20.0*s**2 + 9.0*s + 20.0)*(400.0*s**4 + 180.0*s**3 + 881.0*s**2 + 180.0*s + 400.0))"
      ]
     },
     "metadata": {},
     "output_type": "display_data"
    }
   ],
   "source": [
    "from sympy.abc import p, s, T\n",
    "from IPython.display import display\n",
    "import sympy\n",
    "\n",
    "def round_expr(expr, num_digits):\n",
    "    return expr.xreplace({n : round(n, num_digits) for n in expr.atoms(sympy.Number)})\n",
    "\n",
    "transferencia_lp = sympy.Eq(T, sympy.Poly([1], p)/sympy.Poly([1, 2, 2, 1], p))\n",
    "relacion_p_s = sympy.Eq(p, q_filtro * (s**2 + 1)/s)\n",
    "\n",
    "transferencia = sympy.solve([transferencia_lp, relacion_p_s], [T, p], dict=True)[0][T]\n",
    "\n",
    "#numerador = sympy.fraction(transferencia, s)[0]\n",
    "#denominador = sympy.fraction(transferencia, s)[1]\n",
    "\n",
    "#denominador_coef_principal = denominador.coeff(s,6)\n",
    "\n",
    "#numerador /= denominador_coef_principal\n",
    "#denominador /= denominador_coef_principal\n",
    "\n",
    "#transferencia = numerador/denominador\n",
    "\n",
    "display(round_expr(transferencia, 5))"
   ]
  }
 ],
 "metadata": {
  "kernelspec": {
   "display_name": "Python 3 (ipykernel)",
   "language": "python",
   "name": "python3"
  },
  "language_info": {
   "codemirror_mode": {
    "name": "ipython",
    "version": 3
   },
   "file_extension": ".py",
   "mimetype": "text/x-python",
   "name": "python",
   "nbconvert_exporter": "python",
   "pygments_lexer": "ipython3",
   "version": "3.11.0"
  }
 },
 "nbformat": 4,
 "nbformat_minor": 4
}
