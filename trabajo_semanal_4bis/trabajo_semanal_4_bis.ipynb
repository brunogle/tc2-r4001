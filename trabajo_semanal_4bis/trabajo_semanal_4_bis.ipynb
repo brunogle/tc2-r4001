{
 "cells": [
  {
   "cell_type": "markdown",
   "metadata": {},
   "source": [
    "<p align=\"left\">\n",
    "  <img src=\"./logo_UTN.svg\" />\n",
    "</p>\n",
    "\n",
    "\n",
    "# **Teoría de Circuitos II - R4001 - 2023**\n",
    "## Trabajo Semanal 4bis\n",
    "### Autor: Bruno Glecer"
   ]
  },
  {
   "cell_type": "markdown",
   "metadata": {},
   "source": [
    "# Consigna\n",
    "\n",
    "La tarea semanal consiste en diseñar un filtro pasa-banda con las siguientes caracteristicas\n",
    "\n",
    "- Frecuencia de corte inferior $f_{ci} = 1600\\mathrm{kHz}$\n",
    "- Frecuencia de corte superior $f_{cs} = 2500\\mathrm{kHz}$\n",
    "- Ripple maximo en la banda de paso: $3\\mathrm{dB}$\n",
    "- Maxima planicidad en la banda de paso\n",
    "- Ganancia maxima en la banda de paso: $10\\mathrm{dB}$\n",
    "- Atenuacion minima de $\\alpha_{min} = 20\\mathrm{dB}$ a las frecuencias $1250\\mathrm{kHz}$ y $3200\\mathrm{kHz}$\n",
    "\n",
    "Se piden las siguientes consignas:\n",
    "\n",
    "1. Obtener la funcion de transferencia normalizada del filtro\n",
    "2. Graficar el diagrama de polos y ceros\n",
    "3. Graficar la transferencia (modulo y fase) del filtro pedido\n",
    "4. Sintetizar el filtro utilizando estructuras Ackeberg-Mossberg\n",
    "5. Simular el filtro obtenido, verificando las especificaciones de diseño.\n",
    "\n"
   ]
  },
  {
   "cell_type": "markdown",
   "metadata": {},
   "source": [
    "# 1. Transferencia\n",
    "\n",
    "Comenzamos normalizando los parametros del filtro usando la frecuencia central $\\omega_0 = \\sqrt{\\omega_{ci} \\omega_{cs}}$ como norma para diseñar el pasabajos prototipo y luego aplicar la transformacion en frecuencia utilizando el nucleo $p = K(s) = Q\\dfrac{s^2 + 1}{s}$"
   ]
  },
  {
   "cell_type": "code",
   "execution_count": 112,
   "metadata": {},
   "outputs": [
    {
     "name": "stdout",
     "output_type": "stream",
     "text": [
      "Frecuencias de paso: (0.7999999999999999 a  1.2500000000000002)\n",
      "Frecuencias de corte: (0.6250000000000001  a  1.5999999999999999)\n"
     ]
    }
   ],
   "source": [
    "import numpy as np\n",
    "\n",
    "#Uso los nombres de f_1 y f_2 para las frecuencias de paso y f_s1 y f_s2 para las frecuencias de corte\n",
    "\n",
    "f_p1 = 1600*10**3\n",
    "f_p2 = 2500*10**3\n",
    "\n",
    "f_s1 = 1250*10**3\n",
    "f_s2 = 3200*10**3\n",
    "\n",
    "alpha_max = 3\n",
    "alpha_min = 20\n",
    "\n",
    "ganancia_max = 10\n",
    "\n",
    "#Caluclos de los parametros del filtro\n",
    "\n",
    "f_0 = np.sqrt(f_p1*f_p2)\n",
    "bw = f_p2 - f_p1\n",
    "q_filtro = f_0/bw\n",
    "\n",
    "#Paso a frecuencia angular y normalizo\n",
    "\n",
    "w_norma = f_0 * 2*np.pi\n",
    "\n",
    "w_0  = 1\n",
    "\n",
    "w_p1 = f_p1 * 2*np.pi / w_norma\n",
    "w_p2 = f_p2 * 2*np.pi / w_norma\n",
    "\n",
    "w_s1 = f_s1 * 2*np.pi / w_norma\n",
    "w_s2 = f_s2 * 2*np.pi / w_norma\n",
    "\n",
    "print(f\"Frecuencias de paso: ({w_p1} a  {w_p2})\")\n",
    "print(f\"Frecuencias de corte: ({w_s1}  a  {w_s2})\")\n"
   ]
  },
  {
   "cell_type": "markdown",
   "metadata": {},
   "source": [
    "Para obtener los parametros del filtro prototipo que debemos diseñar, tenemos que elegir los valores de frecuencia tal que imponga las restricciones mas fuertes en el caso de que la plantilla no sea simetrica."
   ]
  },
  {
   "cell_type": "code",
   "execution_count": 122,
   "metadata": {
    "scrolled": true
   },
   "outputs": [
    {
     "name": "stdout",
     "output_type": "stream",
     "text": [
      "Opciones de frecuencia de paso prototipo: (-1.0000000000000004 ,  1.000000000000001)\n",
      "Opciones de frecuencia de corte prototipo: (-2.1666666666666656  ,  2.1666666666666665)\n",
      "\n",
      "Frecuencia de paso prototipo: 1.0000000000000004\n",
      "Frecuencia de corte prototipo: 2.1666666666666656\n"
     ]
    }
   ],
   "source": [
    "#Transformo los parametros del filtro pasabanda al filtro prototipos usando el nucleo de transformacion:\n",
    "\n",
    "def nucleo_wi(w):\n",
    "    return q_filtro*((w**2 - 1)/w) #El nucleo es diferente al definido porque esta formula es para transformar el valor absoluto de frecuencia imaginaria, no compleja.\n",
    "\n",
    "w_p1_lp = nucleo_wi(w_p1)\n",
    "w_p2_lp = nucleo_wi(w_p2)\n",
    "\n",
    "w_s1_lp = nucleo_wi(w_s1)\n",
    "w_s2_lp = nucleo_wi(w_s2)\n",
    "\n",
    "\n",
    "print(f\"Opciones de frecuencia de paso prototipo: ({w_p1_lp} ,  {w_p2_lp})\")\n",
    "print(f\"Opciones de frecuencia de corte prototipo: ({w_s1_lp}  ,  {w_s2_lp})\")\n",
    "\n",
    "w_p_lp = min(abs(w_p1_lp), abs(w_p2_lp))\n",
    "w_s_lp = min(abs(w_s1_lp), abs(w_s2_lp))\n",
    "print()\n",
    "print(f\"Frecuencia de paso prototipo: {w_p_lp}\")\n",
    "print(f\"Frecuencia de corte prototipo: {w_s_lp}\")\n"
   ]
  },
  {
   "cell_type": "markdown",
   "metadata": {},
   "source": [
    "Como es de esperar, la frecuencia de paso resulta igual a 1 debido a la normaizacion inicial. El filtro prototipo se debe diseñar para que el ripple maximo en la banda de paso sea de $\\alpha_{max} = 3\\mathrm{dB}$ y una atenuacion en la frecuencia de corte minima de $\\alpha_{min} = 20dB$. Pasamos entonces a calcular los parametros del filtro prototipo.\n",
    "\n",
    "Es importante tener en cuenta que al exigir una ganancia maxima de $10\\mathrm{dB}$ en la banda de paso tendra la consecuencia de tener un valor $K$ en la transferencia final mayor a uno. Esto causará que toda respuesta suba por $10\\mathrm{dB}$, incluyendo la ganancia en las frecuencias de corte. Para seguir cumpliendo con el requisito de atenuacion, es importante exigirle $10\\mathrm{dB}$ extra de atenuacion en las frecuencias de corte."
   ]
  },
  {
   "cell_type": "code",
   "execution_count": 123,
   "metadata": {
    "tags": []
   },
   "outputs": [
    {
     "name": "stdout",
     "output_type": "stream",
     "text": [
      "epsilon = 0.9976283451109834   n = 5   alpha_ws = 23.56049930002674\n"
     ]
    }
   ],
   "source": [
    "#Calculo de epsilon\n",
    "\n",
    "epsilon = np.sqrt(10**(alpha_max/10) - 1)\n",
    "\n",
    "#Calculo de orden\n",
    "\n",
    "n = 1\n",
    "\n",
    "alpha_min_diseno = alpha_min + ganancia_max #Exigo ganancia_max mas de atenuacion\n",
    "\n",
    "\n",
    "while (10*np.log10(1 + epsilon**2 * w_s_lp ** (2*n))) < alpha_min_diseno:\n",
    "    n += 1\n",
    "    \n",
    "alpha_ws = 10*np.log10(1 + epsilon**2 * w_s_lp ** (2*n)) - ganancia_max #En el filtro final, la atenuacion sera reducida por ganancia_max\n",
    "\n",
    "    \n",
    "print(f\"epsilon = {epsilon}   n = {n}   alpha_ws = {alpha_ws}\")"
   ]
  },
  {
   "cell_type": "markdown",
   "metadata": {},
   "source": [
    "El filtro al tener una atenuacion maxima en la banda de paso de 3dB, corresponde a un filtro Butterworth ($\\varepsilon=1$), entonces no es necesario desnormalizar con la frecuencia de Butterworth.\n",
    "\n",
    "Continuamos calculando los polos del filtro utilizando la propiedad de separacion angular constante entre los polos de un filtro de maxima planicidad.\n",
    "\n",
    "$T_{LP}(p) = \\dfrac{1}{\\left(p + 1\\right) \\left(p^2 + 2 cos \\left(\\dfrac{\\pi}{5}\\right)p + 1 \\right) \\left(p^2 + 2 cos \\left(\\dfrac{2\\pi}{5}\\right)p + 1 \\right)}$\n",
    "\n",
    "Remplazando $p$ por el nucleo de transformacion, podemos encontrar la transferencia del filtro pasabanda. Para agilizar este trabajo, haremos uso de la libreria sympy para la manipulacion algebraica.\n",
    "\n"
   ]
  },
  {
   "cell_type": "code",
   "execution_count": 147,
   "metadata": {},
   "outputs": [
    {
     "data": {
      "text/latex": [
       "$\\displaystyle \\frac{0.0584 s^{5}}{1.0 s^{10} + 1.4562 s^{9} + 6.0603 s^{8} + 6.3021 s^{7} + 13.3136 s^{6} + 9.7101 s^{5} + 13.3136 s^{4} + 6.3021 s^{3} + 6.0603 s^{2} + 1.4562 s + 1.0}$"
      ],
      "text/plain": [
       "0.0584*s**5/(1.0*s**10 + 1.4562*s**9 + 6.0603*s**8 + 6.3021*s**7 + 13.3136*s**6 + 9.7101*s**5 + 13.3136*s**4 + 6.3021*s**3 + 6.0603*s**2 + 1.4562*s + 1.0)"
      ]
     },
     "metadata": {},
     "output_type": "display_data"
    }
   ],
   "source": [
    "from sympy.abc import p, s, T, Q\n",
    "from IPython.display import display\n",
    "import sympy\n",
    "\n",
    "def round_expr(expr, num_digits):\n",
    "    return expr.xreplace({n : round(n, num_digits) for n in expr.atoms(sympy.Number)})\n",
    "\n",
    "K = 10**(ganancia_max/20)\n",
    "\n",
    "transferencia_lp = sympy.Eq(T, 1/((p+1)*(p**2 + 2*np.cos(np.pi/5)*p + 1)*(p**2 + 2*np.cos(2*np.pi/5)*p + 1)))\n",
    "relacion_p_s = sympy.Eq(p, q_filtro * (s**2 + 1)/s)\n",
    "\n",
    "transferencia = sympy.solve([transferencia_lp, relacion_p_s], [T, p], dict=True)[0][T]\n",
    "\n",
    "numerador = sympy.fraction(transferencia, s)[0]\n",
    "denominador = sympy.fraction(transferencia, s)[1]\n",
    "\n",
    "numerador = sympy.expand(numerador)\n",
    "denominador = sympy.expand(denominador)\n",
    "\n",
    "\n",
    "denominador_coef_principal = sympy.expand(denominador).coeff(s,2*n)\n",
    "\n",
    "numerador /= denominador_coef_principal\n",
    "denominador /= denominador_coef_principal\n",
    "\n",
    "transferencia = numerador/denominador\n",
    "\n",
    "transferencia = K*transferencia\n",
    "\n",
    "display(round_expr(transferencia, 4))\n"
   ]
  },
  {
   "cell_type": "markdown",
   "metadata": {},
   "source": [
    "Para verificar el resultado anterior podemos utilizar las funciones de sintesis de filtros de scipy."
   ]
  },
  {
   "cell_type": "code",
   "execution_count": 170,
   "metadata": {
    "tags": []
   },
   "outputs": [
    {
     "data": {
      "text/latex": [
       "$\\displaystyle \\frac{s^5 \\,\\, 0.05835 }{s^10 + s^9 \\,\\, 1.456 + s^8 \\,\\, 6.06 + s^7 \\,\\, 6.302 + s^6 \\,\\, 13.31 + s^5 \\,\\, 9.71 + s^4 \\,\\, 13.31 + s^3 \\,\\, 6.302 + s^2 \\,\\, 6.06 + s \\,\\, 1.456 +   1 }$"
      ],
      "text/plain": [
       "<IPython.core.display.Math object>"
      ]
     },
     "metadata": {},
     "output_type": "display_data"
    }
   ],
   "source": [
    "from scipy import signal\n",
    "from IPython.display import display\n",
    "from pytc2.sistemas_lineales import analyze_sys, pretty_print_bicuad_omegayq,tfcascade,pretty_print_lti\n",
    "\n",
    "\n",
    "t_num, t_den = signal.butter(n, [w_p1, w_p2], btype='bandpass', analog=True)\n",
    "\n",
    "t_num[0]*=K\n",
    "\n",
    "pretty_print_lti(t_num, t_den)"
   ]
  },
  {
   "cell_type": "markdown",
   "metadata": {},
   "source": [
    "Como vemos, ambas transferencias son numericamente identicas, confirmando nuestro resultado anterior."
   ]
  },
  {
   "cell_type": "markdown",
   "metadata": {},
   "source": [
    "# 2/3. Diagramas de polos y ceros y transferencia\n",
    "\n",
    "Utilizamos la libreria de pytc2 para realizar el analisis"
   ]
  },
  {
   "cell_type": "code",
   "execution_count": 119,
   "metadata": {},
   "outputs": [
    {
     "data": {
      "text/plain": [
       "(2, <Axes: xlabel='$\\\\sigma$', ylabel='j$\\\\omega$'>)"
      ]
     },
     "execution_count": 119,
     "metadata": {},
     "output_type": "execute_result"
    },
    {
     "data": {
      "image/png": "[encoded data removed]",
      "text/plain": [
       "<Figure size 640x480 with 2 Axes>"
      ]
     },
     "metadata": {},
     "output_type": "display_data"
    },
    {
     "data": {
      "image/png": "[encoded data removed]",
      "text/plain": [
       "<Figure size 640x480 with 1 Axes>"
      ]
     },
     "metadata": {},
     "output_type": "display_data"
    }
   ],
   "source": [
    "t = signal.TransferFunction(t_num, t_den)\n",
    "from pytc2.sistemas_lineales import analyze_sys, pretty_print_bicuad_omegayq,tfcascade,pretty_print_lti, bodePlot, pzmap\n",
    "\n",
    "bodePlot(t)\n",
    "pzmap(t)"
   ]
  },
  {
   "cell_type": "markdown",
   "metadata": {},
   "source": [
    "Al ser un filtro de orden muy elevado, es facil apreciar en el diagrama de polos y ceros la formacion en forma de semicircunferencia en la que se encuentran los polos del filtro alrededor de los puntos de corte de frecuencia."
   ]
  },
  {
   "cell_type": "markdown",
   "metadata": {},
   "source": [
    "# 4. Sintesis con estructura Ackerberg-Mossberg"
   ]
  },
  {
   "cell_type": "markdown",
   "metadata": {},
   "source": [
    "Para realizar la sintesis es importante separar la transferencia en etapas de segundo y primer orden. En este caso el filtro al ser de orden 10, resulta en 5 estructuras de segundo orden, todas pasa altos."
   ]
  },
  {
   "cell_type": "code",
   "execution_count": 207,
   "metadata": {},
   "outputs": [
    {
     "data": {
      "text/latex": [
       "$\\displaystyle \\frac{s \\,\\, 1.453 }{s^2 + s \\,\\, 0.45 +   1 }$"
      ],
      "text/plain": [
       "<IPython.core.display.Math object>"
      ]
     },
     "metadata": {},
     "output_type": "display_data"
    },
    {
     "data": {
      "text/latex": [
       "$\\displaystyle \\frac{s \\,\\, 0.3508 }{s^2 + s \\,\\, 0.3155 + 0.7648 }$"
      ],
      "text/plain": [
       "<IPython.core.display.Math object>"
      ]
     },
     "metadata": {},
     "output_type": "display_data"
    },
    {
     "data": {
      "text/latex": [
       "$\\displaystyle \\frac{s \\,\\, 0.5853 }{s^2 + s \\,\\, 0.4126 + 1.307 }$"
      ],
      "text/plain": [
       "<IPython.core.display.Math object>"
      ]
     },
     "metadata": {},
     "output_type": "display_data"
    },
    {
     "data": {
      "text/latex": [
       "$\\displaystyle \\frac{s \\,\\, 0.3161 }{s^2 + s \\,\\, 0.1682 + 1.531 }$"
      ],
      "text/plain": [
       "<IPython.core.display.Math object>"
      ]
     },
     "metadata": {},
     "output_type": "display_data"
    },
    {
     "data": {
      "text/latex": [
       "$\\displaystyle \\frac{s \\,\\, 0.6187 }{s^2 + s \\,\\, 0.1099 + 0.6533 }$"
      ],
      "text/plain": [
       "<IPython.core.display.Math object>"
      ]
     },
     "metadata": {},
     "output_type": "display_data"
    },
    {
     "name": "stdout",
     "output_type": "stream",
     "text": [
      "\n",
      "Etapa 1 :  omega_0=1.0000000000000344     q=2.222222222223029     k=1.4531396745556755\n",
      "Etapa 2 :  omega_0=0.8745411428856967     q=2.7715362358210727     k=0.3508154079877759\n",
      "Etapa 3 :  omega_0=1.1434567808900447     q=2.771536235821898     k=0.5853273573572225\n",
      "Etapa 4 :  omega_0=1.237226978252877     q=7.354813433977212     k=0.31606712873765874\n",
      "Etapa 5 :  omega_0=0.8082591291471144     q=7.354813433979513     k=0.6187260408810356\n"
     ]
    }
   ],
   "source": [
    "from pytc2.sistemas_lineales import tf2sos_analog\n",
    "t_sos = tf2sos_analog(t_num, t_den)\n",
    "\n",
    "\n",
    "i = 0\n",
    "omega_0_etapa = []\n",
    "q_etapa = []\n",
    "k_etapa = []\n",
    "\n",
    "for etapa in t_sos:\n",
    "    i+=1\n",
    "\n",
    "    omega_0_etapa.append( np.sqrt(etapa[5]) )\n",
    "    q_etapa.append( np.sqrt(etapa[5])/etapa[4] )\n",
    "    k_etapa.append( (etapa[1]) )\n",
    "    #print(f\"Etapa {i}:\")\n",
    "    pretty_print_lti(etapa[:3], etapa[3:])\n",
    "n_etapas = i\n",
    "    \n",
    "print()\n",
    "for i in range(n_etapas):\n",
    "    print(f\"Etapa {i+1} :  omega_0={omega_0_etapa[i]}     q={q_etapa[i]}     k={k_etapa[i]}\")"
   ]
  },
  {
   "cell_type": "markdown",
   "metadata": {},
   "source": [
    "La estructura Ackerberg-Mossberg pasa banda se trata de la siguiente red:\n",
    "\n",
    "<div>\n",
    "    <img src=\"ack_mos.png\" width=\"700\"/>\n",
    "</div>\n",
    "\n",
    "Esta tiene la siguiente transferencia (normalizada respecto de su $\\omega_0$):\n",
    "\n",
    "$T(s) = \\dfrac{K s}{s^2 + \\dfrac{1}{Q}s + 1}$"
   ]
  },
  {
   "cell_type": "markdown",
   "metadata": {},
   "source": [
    "Para automatizar el trabajo de pasar todos esos valores a LTSpice se puede utilizar un script para generar el directivo entero"
   ]
  },
  {
   "cell_type": "code",
   "execution_count": 226,
   "metadata": {},
   "outputs": [
    {
     "name": "stdout",
     "output_type": "stream",
     "text": [
      ".param r1=1000 rq1=2222.222222223029 rk1=688.1650934936923 c1=7.957747154594492e-11 \n",
      ".param r2=1000 rq2=2771.5362358210728 rk2=2850.5019370039895 c2=9.099339944530032e-11 \n",
      ".param r3=1000 rq3=2771.5362358218977 rk3=1708.445688435001 c3=6.959377291374852e-11 \n",
      ".param r4=1000 rq4=7354.813433977212 rk4=3163.8848493796313 c4=6.431921785145782e-11 \n",
      ".param r5=1000 rq5=7354.813433979512 rk5=1616.2241992854365 c5=9.84553946577985e-11 \n",
      "\n"
     ]
    }
   ],
   "source": [
    "directivo = \"\"\n",
    "\n",
    "z_norma = 1000\n",
    "\n",
    "digits=3\n",
    "\n",
    "for i in range(n_etapas):\n",
    "\n",
    "    r = z_norma\n",
    "    rq = z_norma * q_etapa[i]\n",
    "    rk = z_norma / k_etapa[i]\n",
    "    c = 1/(z_norma * w_norma * omega_0_etapa[i])\n",
    "    \n",
    "    directivo += f\".param r{i+1}={r} rq{i+1}={rq} rk{i+1}={rk} c{i+1}={c} \\n\"\n",
    "\n",
    "print(directivo)\n",
    "\n"
   ]
  },
  {
   "cell_type": "markdown",
   "metadata": {},
   "source": [
    "A continuacion se muestran las cinco estructuras Ackerberg-Mossberg implementadas en LTSpice, junto con sus directivos que contienen los valores para cada etapa\n",
    "\n",
    "## Simulacion\n",
    "\n",
    "<div>\n",
    "    <img src=\"sim.png\" width=\"1000\"/>\n",
    "</div>\n",
    "\n",
    "## Respuesta en frecuencia\n",
    "\n",
    "La simulacion del circuito resulto en la siguiente transferencia y mediciones\n",
    "\n",
    "<div>\n",
    "    <img src=\"sim_res.png\" width=\"700\"/>\n",
    "</div>\n",
    "\n",
    "## Mediciones en puntos cirticos\n",
    "\n",
    "```\n",
    "t_ripple: PP(v(vo5)/v(vi))=(3.03871dB,-87.1735°) FROM 1.6e+06 TO 2.5e+06\n",
    "t_fp1: v(vo5)/v(vi)=(-23.5924dB,-178.336°) at 1.25e+06\n",
    "t_fp2: v(vo5)/v(vi)=(-23.6038dB,178.201°) at 3.2e+06\n",
    "t_max: MAX(v(vo5)/v(vi))=(9.96982dB,-132.194°) FROM 1.6e+06 TO 2.5e+06\n",
    "```\n",
    "\n",
    "Se utilizaron 4 directivos para tomar las siguientes mediciones: Ripple en banda de paso, atenuacion en las frecuencias de corte y ganancia maxima en la banda de paso.\n",
    "Las tres mediciones corresponden con gran exactitud a los valores planteados originalmente, \n",
    "\n"
   ]
  }
 ],
 "metadata": {
  "kernelspec": {
   "display_name": "Python 3 (ipykernel)",
   "language": "python",
   "name": "python3"
  },
  "language_info": {
   "codemirror_mode": {
    "name": "ipython",
    "version": 3
   },
   "file_extension": ".py",
   "mimetype": "text/x-python",
   "name": "python",
   "nbconvert_exporter": "python",
   "pygments_lexer": "ipython3",
   "version": "3.11.3"
  }
 },
 "nbformat": 4,
 "nbformat_minor": 4
}
