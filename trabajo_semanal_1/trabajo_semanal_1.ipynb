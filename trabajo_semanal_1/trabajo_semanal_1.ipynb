{
 "cells": [
  {
   "cell_type": "markdown",
   "metadata": {},
   "source": [
    "<p align=\"center\">\n",
    "  <img src=\"./logo_UTN.svg\" />\n",
    "</p>\n",
    "\n",
    "\n",
    "# **Teoría de Circuitos II**\n",
    "## Trabajo Semanal 1\n",
    "#### Autor: Bruno Glecer"
   ]
  },
  {
   "cell_type": "markdown",
   "metadata": {},
   "source": [
    "## Consigna\n",
    "\n",
    "La tarea semanal consiste en realizar un analisis del siguiente circuito\n",
    "\n",
    "<div>\n",
    "    <img src=\"circuito.png\" width=\"500\"/>\n",
    "</div>\n",
    "\n",
    "Se piden las siguientes consignas:\n",
    "\n",
    "1. Obtener la función transferencia $\\frac{V2}{V1}$ (módulo , fase y diagrama de polos y ceros).\n",
    "2. ¿Qué tipo de filtro es?\n",
    "3. Obtenga la función transferencia, pero normalizada. ¿Cuál sería en este caso la norma de frecuencia y qué interpretación circuital podría tener?\n",
    "4. Simule la función transferencia normalizada (Python, Matlab, etc.).\n",
    "5. Simule el circuito y obtenga la respuesta en frecuencia pedida en 1), para los valores:  $\\frac{R2}{R1}=1$; $R3=1k\\Omega$ y $C=1\\mu F$\n",
    "6. ¿Qué utilidad podría tener este tipo de circuitos?\n",
    "7. (Bonus) Obtener una RED normalizada que responda a la función hallada en 3)\n",
    "8. (Bonus) Verifique los resultados de 1 y 2 mediante el módulo de simulación simbólica SymPy."
   ]
  },
  {
   "cell_type": "markdown",
   "metadata": {},
   "source": [
    "## Calculos\n",
    "El modelo del op-amp que se usará a continuacion, sera un modelo ideal con impedancia de entrada y salida infinita y nula respectivamente, pero con ganancia diferencial finita: $A$\n",
    "Es decir, la salida del op-amp esta determinada por la siguiente ecuación:\n",
    "\n",
    "\\begin{equation}\n",
    " V_2 = A \\left( V_+ - V_- \\right)\n",
    "\\label{eq:opamp}\n",
    "\\end{equation} \n",
    "\n",
    "Donde $V_+$ y $V_-$ son las tensiones en la entrada no inversora e inversora respectivamente.\n",
    "\n",
    "Usando leyes circuitales básicas, se puede encontrar las tensiones en la entrada del op-amp en funcion de $V_1$ y $V_2$\n",
    "\n",
    "\\begin{align}\n",
    " V_+(s) &= V_1(s) \\frac{C_1 R_3 s}{1 + C_1 R_3 s} & V_-(s) &= \\frac{R_1 V_2 + R_2 V_1}{R_1 + R_2}  \\\\\n",
    "\\end{align}\n",
    "\n",
    "Remplazando las ecuaciones de arriba en \\eqref{eq:opamp} obtenemos:\n",
    "\n",
    "$$ V_2 = A \\left( \\left( V_1(s) \\frac{C_1 R_3 s}{1 + C_1 R_3 s} \\right) - \\left( \\frac{R_1 V_2(s) + R_2 V_1(s)}{R_1 + R_2} \\right) \\right) $$\n",
    "Separando en terminos de $V_1$ y $V_2$\n",
    "\n",
    "\n",
    "$$ V_2 \\left( 1 + \\frac{A}{2} \\right) = V_1 \\left( \\frac{A C_1 R_3}{} \\right) $$"
   ]
  },
  {
   "cell_type": "code",
   "execution_count": null,
   "metadata": {},
   "outputs": [],
   "source": []
  }
 ],
 "metadata": {
  "kernelspec": {
   "display_name": "Python 3 (ipykernel)",
   "language": "python",
   "name": "python3"
  },
  "language_info": {
   "codemirror_mode": {
    "name": "ipython",
    "version": 3
   },
   "file_extension": ".py",
   "mimetype": "text/x-python",
   "name": "python",
   "nbconvert_exporter": "python",
   "pygments_lexer": "ipython3",
   "version": "3.10.10"
  }
 },
 "nbformat": 4,
 "nbformat_minor": 4
}
