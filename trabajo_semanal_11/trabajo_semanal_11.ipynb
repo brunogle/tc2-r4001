{
 "cells": [
  {
   "attachments": {},
   "cell_type": "markdown",
   "id": "15e1d77f-dd54-42f8-80cc-0977c9bd3c62",
   "metadata": {},
   "source": [
    "<p align=\"left\">\n",
    "  <img src=\"./logo_UTN.svg\" />\n",
    "</p>\n",
    "\n",
    "\n",
    "# **Teoría de Circuitos II - R4001 - 2023**\n",
    "## Trabajo Semanal 11\n",
    "### Autor: Bruno Glecer\n",
    "\n",
    "# Consignas\n",
    "\n",
    "<p align=\"left\">\n",
    "  <img src=\"./consignas.png\" width=1000/>\n",
    "</p>\n"
   ]
  },
  {
   "cell_type": "markdown",
   "id": "abcad869-1b07-4db5-98a2-89c14b05bec1",
   "metadata": {},
   "source": [
    "# Problema 1\n",
    "\n",
    "Este problema directamente nos proporciona con una admitancia de entrada y transconductancia que el cuadripolo debe cumplir. Se pueden utilizar los mismos metodos vistos en clase, solo que ahorrandonos el trabajo de determinar un polinomio auxiliar para realizar la sintesis.\n",
    "\n",
    "## Resolucion en papel\n",
    "\n",
    "<p align=\"left\">\n",
    "  <img src=\"./ej1_1.png\" width=600/>\n",
    "</p>\n",
    "\n",
    "<p align=\"left\">\n",
    "  <img src=\"./ej1_2.png\" width=600/>\n",
    "</p>"
   ]
  },
  {
   "cell_type": "markdown",
   "id": "a50c7e28-fd11-42d4-b14f-8c513d2a9fd3",
   "metadata": {},
   "source": [
    "# Simulación simbolica"
   ]
  },
  {
   "cell_type": "code",
   "execution_count": 1,
   "id": "99022e9d-7fcb-4518-bbb4-44b95a12b7ef",
   "metadata": {},
   "outputs": [
    {
     "data": {
      "text/latex": [
       "$\\displaystyle Y_{11} = \\frac{s \\left(3 s^{2} + 7\\right)}{\\left(s^{2} + 2\\right) \\left(s^{2} + 5\\right)}$"
      ],
      "text/plain": [
       "<IPython.core.display.Math object>"
      ]
     },
     "metadata": {},
     "output_type": "display_data"
    },
    {
     "data": {
      "text/latex": [
       "$\\displaystyle Y_{21} = - \\frac{s \\left(s^{2} + 1\\right)}{\\left(s^{2} + 2\\right) \\left(s^{2} + 5\\right)}$"
      ],
      "text/plain": [
       "<IPython.core.display.Math object>"
      ]
     },
     "metadata": {},
     "output_type": "display_data"
    }
   ],
   "source": [
    "import sympy as sp\n",
    "from IPython.display import display, Math, Markdown\n",
    "\n",
    "s = sp.symbols('s', complex=True)\n",
    "\n",
    "def T_R_serie(R):\n",
    "    return sp.Matrix([[1,R],\n",
    "                      [0,1]])\n",
    "def T_L_serie(L):\n",
    "    return sp.Matrix([[1,L*s],\n",
    "                      [0,1]])\n",
    "def T_C_serie(C):\n",
    "    return sp.Matrix([[1,1/(C*s)],\n",
    "                      [0,1]])\n",
    "def T_LC_serie(L,C):\n",
    "    return sp.Matrix([[1,1/(C*s + 1/(L*s))],\n",
    "                      [0,1]])\n",
    "def T_RC_serie(R,C):\n",
    "    return sp.Matrix([[1,1/(C*s + 1/R)],\n",
    "                      [0,1]])\n",
    "\n",
    "    \n",
    "def T_R_deriv(R):\n",
    "    return sp.Matrix([[1,0],\n",
    "                      [1/R,1]])\n",
    "def T_L_deriv(L):\n",
    "    return sp.Matrix([[1,0],\n",
    "                      [1/(L*s),1]])\n",
    "def T_C_deriv(C):\n",
    "    return sp.Matrix([[1,0],\n",
    "                      [C*s,1]])\n",
    "def T_LC_deriv(L,C):\n",
    "    return sp.Matrix([[1,0],\n",
    "                      [1/(L*s + 1/(C*s)),1]])\n",
    "def T_RC_deriv(R,C):\n",
    "    return sp.Matrix([[1,0],\n",
    "                      [1/(1/(C*s) + R),1]])\n",
    "\n",
    "C1 = sp.Rational('1')\n",
    "C2 = sp.Rational('2')\n",
    "L1 = sp.Rational('1/2')\n",
    "C3 = sp.Rational('1/3')\n",
    "L2 = sp.Rational('1')\n",
    "\n",
    "T = T_C_serie(C1)*T_LC_deriv(L1, C2)*T_C_serie(C3)*T_L_serie(L2)\n",
    "\n",
    "Y11 = (T[1,1]/T[0,1]).simplify().factor() #Y11 = D/B\n",
    "Y21 = -(1/T[0,1]).simplify().factor() #Y11 = D/B\n",
    "\n",
    "display(Math('$$Y_{11} = ' + sp.latex(Y11) + '$$'))\n",
    "display(Math('$$Y_{21} = ' + sp.latex(Y21) + '$$'))\n",
    "\n",
    "\n",
    "\n"
   ]
  },
  {
   "cell_type": "markdown",
   "id": "10c399e2-3854-4362-b7be-60f6b3e93afd",
   "metadata": {},
   "source": [
    "Los parametros Y corresponden con los que estabamos deseando sintetizar."
   ]
  },
  {
   "cell_type": "markdown",
   "id": "b1019223-bde0-4481-a839-ff4d11800583",
   "metadata": {},
   "source": [
    "## Simulación numerica\n",
    "\n",
    "<p align=\"left\">\n",
    "  <img src=\"./ej1_sch.png\" width=600/>\n",
    "</p>\n",
    "\n",
    "<p align=\"left\">\n",
    "  <img src=\"./ej1_plot.png\" width=1000/>\n",
    "</p>\n",
    "\n",
    "En el grafico se puede ver como Y11(verde) e Y21(rojo) comparten los polos, el cero en infinito, el cero en DC, pero difieren en que el parametro Y11 tiene un cero en $f = \\dfrac{1}{2\\pi} \\sqrt{\\dfrac{7}{3}}$ mientras Y21 lo tiene en $f = \\dfrac{1}{2\\pi}$. Este comportamiento es exactamente el que se esperaba de las funciones de transferencia dadas, mostrando que la red fue sintetizada exitosamente, al menos a simple vista"
   ]
  },
  {
   "cell_type": "markdown",
   "id": "aa5d612d-fdba-4aaf-a344-5baa0a326f2b",
   "metadata": {},
   "source": [
    "# Problema 2\n",
    "\n",
    "## Resolución en papel\n",
    "\n",
    "## Resolción con parametros z\n",
    "\n",
    "<p align=\"left\">\n",
    "  <img src=\"./ej2_1.png\" width=600/>\n",
    "</p>\n",
    "<p align=\"left\">\n",
    "  <img src=\"./ej2_2.png\" width=600/>\n",
    "</p>\n",
    "\n",
    "### Verificación\n",
    "\n",
    "<p align=\"left\">\n",
    "  <img src=\"./ej2_3.png\" width=600/>\n",
    "</p>\n"
   ]
  },
  {
   "cell_type": "markdown",
   "id": "b58477f6-8082-4373-ace0-5e0858e6f367",
   "metadata": {},
   "source": [
    "## Simulación simbolica"
   ]
  },
  {
   "cell_type": "code",
   "execution_count": 2,
   "id": "74a6e08f-1a1a-4147-a52a-5d20e9f11e30",
   "metadata": {},
   "outputs": [
    {
     "data": {
      "text/latex": [
       "$\\displaystyle \\dfrac{V_2}{V_1} = \\frac{s + 1}{2 \\left(s + 2\\right) \\left(s + 4\\right)}$"
      ],
      "text/plain": [
       "<IPython.core.display.Math object>"
      ]
     },
     "metadata": {},
     "output_type": "display_data"
    }
   ],
   "source": [
    "R1 = sp.Rational('1')\n",
    "C1 = sp.Rational('2/5')\n",
    "C2 = sp.Rational('4')\n",
    "R2 = sp.Rational('1/4')\n",
    "C3 = sp.Rational('2')\n",
    "\n",
    "T = T_R_serie(R1)*T_C_serie(C1)*T_RC_deriv(R2, C2)*T_C_deriv(C3)\n",
    "\n",
    "V2V1 = (1/T[0,0]).simplify().factor()\n",
    "\n",
    "display(Math('$$\\dfrac{V_2}{V_1} = ' + sp.latex(V2V1) + '$$'))\n"
   ]
  },
  {
   "cell_type": "markdown",
   "id": "0d39be5b-0dc3-42d4-94fc-e669c5b7ed17",
   "metadata": {},
   "source": [
    "Verifica correctamente"
   ]
  },
  {
   "cell_type": "markdown",
   "id": "a5a7c485-76a4-497b-977a-5d6133907a36",
   "metadata": {},
   "source": [
    "## Resolción con parametros y\n",
    "\n",
    "\n",
    "<p align=\"left\">\n",
    "  <img src=\"./ej2_4.png\" width=600/>\n",
    "</p>\n",
    "<p align=\"left\">\n",
    "  <img src=\"./ej2_5.png\" width=600/>\n",
    "</p>"
   ]
  },
  {
   "cell_type": "markdown",
   "id": "f4960b6e-c0db-4312-9128-51dc820451ac",
   "metadata": {},
   "source": [
    "### Verificación\n",
    "\n",
    "\n",
    "<p align=\"left\">\n",
    "  <img src=\"./ej2_6.png\" width=600/>\n",
    "</p>"
   ]
  },
  {
   "cell_type": "code",
   "execution_count": 3,
   "id": "e9f20e8f-5885-4676-9525-949e62f628a7",
   "metadata": {},
   "outputs": [
    {
     "data": {
      "text/latex": [
       "$\\displaystyle \\dfrac{V_2}{V_1} = \\frac{7 \\left(s + 1\\right)}{2 \\left(s + 2\\right) \\left(s + 4\\right)}$"
      ],
      "text/plain": [
       "<IPython.core.display.Math object>"
      ]
     },
     "metadata": {},
     "output_type": "display_data"
    }
   ],
   "source": [
    "R1 = sp.Rational('2/35')\n",
    "C1 = sp.Rational('5')\n",
    "C2 = sp.Rational('5/4')\n",
    "R2 = sp.Rational('4/5')\n",
    "R3 = sp.Rational('2/3')\n",
    "\n",
    "T = T_R_serie(R1)*T_C_deriv(C1)*T_RC_serie(R2, C2)*T_R_deriv(R3)\n",
    "\n",
    "V2V1 = (1/T[0,0]).simplify().factor()\n",
    "\n",
    "display(Math('$$\\dfrac{V_2}{V_1} = ' + sp.latex(V2V1) + '$$'))\n"
   ]
  },
  {
   "cell_type": "markdown",
   "id": "648ca005-80e9-4dd2-8392-23531f6bead3",
   "metadata": {},
   "source": [
    "Verifica correctamente"
   ]
  },
  {
   "cell_type": "markdown",
   "id": "96f42c12-a2af-45cc-9f47-5a79ff0eac3a",
   "metadata": {},
   "source": [
    "# Simulación numerica\n",
    "\n",
    "## Resolucion en papel\n",
    "\n",
    "<p align=\"left\">\n",
    "  <img src=\"./ej2_sch.png\" width=600/>\n",
    "</p>\n",
    "\n",
    "<p align=\"left\">\n",
    "  <img src=\"./ej2_plot.png\" width=1000/>\n",
    "</p>\n",
    "\n",
    "\n",
    "Ambas simulaciones producen el mismo grafico, solo que el del circuito diseñado por parametros Y tiene una amplitud 7 veces mayor (16.9dB) que la red diseñada por parametros Z. Esto muestra como algunas sintesis pueden ser mejores candidatas para una aplicación que otras. Al ser una red disipativa, tiene valores de Q muy bajos, haciendo que sea dificil identificar en la respuesta en recuencia los polos y ceros del sistema."
   ]
  }
 ],
 "metadata": {
  "kernelspec": {
   "display_name": "Python 3 (ipykernel)",
   "language": "python",
   "name": "python3"
  },
  "language_info": {
   "codemirror_mode": {
    "name": "ipython",
    "version": 3
   },
   "file_extension": ".py",
   "mimetype": "text/x-python",
   "name": "python",
   "nbconvert_exporter": "python",
   "pygments_lexer": "ipython3",
   "version": "3.11.4"
  }
 },
 "nbformat": 4,
 "nbformat_minor": 5
}
