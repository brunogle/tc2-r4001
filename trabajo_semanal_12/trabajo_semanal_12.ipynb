{
 "cells": [
  {
   "cell_type": "markdown",
   "id": "15e1d77f-dd54-42f8-80cc-0977c9bd3c62",
   "metadata": {},
   "source": [
    "<p align=\"left\">\n",
    "  <img src=\"./logo_UTN.svg\" />\n",
    "</p>\n",
    "\n",
    "\n",
    "# **Teoría de Circuitos II - R4001 - 2023**\n",
    "## Trabajo Semanal 12\n",
    "### Autor: Bruno Glecer\n",
    "\n",
    "# Consignas\n",
    "\n",
    "<p align=\"left\">\n",
    "  <img src=\"./consigna_1.png\" width=800/>\n",
    "</p>\n",
    "\n",
    "<p align=\"left\">\n",
    "  <img src=\"./consigna_2.png\" width=800/>\n",
    "</p>"
   ]
  },
  {
   "cell_type": "markdown",
   "id": "8f8b68c8-3b7e-4e97-ac73-1b91119c1f0b",
   "metadata": {},
   "source": [
    "# Problema 1\n",
    "\n",
    "## Punto 1a: Obtención de la topologia mediante la síntesis gráfica\n",
    "\n",
    "<p align=\"left\">\n",
    "  <img src=\"./ej1_1.png\" width=600/>\n",
    "</p>"
   ]
  },
  {
   "cell_type": "markdown",
   "id": "68c4e41a-c4f1-4862-b753-0658a5fc940e",
   "metadata": {},
   "source": [
    "\n",
    "## Punto 1b: Obtención de valores de los componentes\n",
    "\n",
    "\n",
    "<p align=\"left\">\n",
    "  <img src=\"./ej1_2.png\" width=600/>\n",
    "</p>\n",
    "\n"
   ]
  },
  {
   "cell_type": "markdown",
   "id": "7d215d52-e016-451b-876b-e6029093361a",
   "metadata": {
    "tags": []
   },
   "source": [
    "## Punto 1c: Verificación mediante parametros T\n",
    "\n",
    "\n",
    "<p align=\"left\">\n",
    "  <img src=\"./ej1_3.png\" width=600/>\n",
    "</p>"
   ]
  },
  {
   "cell_type": "markdown",
   "id": "e0010e23-52c4-4e6c-8434-e7e956593d2f",
   "metadata": {},
   "source": [
    "### Verificación con sympy"
   ]
  },
  {
   "cell_type": "code",
   "execution_count": 1,
   "id": "4bba4be8-82a1-4ea8-925b-ad3588383899",
   "metadata": {
    "tags": []
   },
   "outputs": [
    {
     "data": {
      "text/latex": [
       "$\\displaystyle  \\frac{-I_2}{I_1} = \\frac{5 \\left(s + 1\\right) \\left(s + 4\\right)}{6 \\left(s + 2\\right) \\left(s + 6\\right)}$"
      ],
      "text/plain": [
       "<IPython.core.display.Math object>"
      ]
     },
     "metadata": {},
     "output_type": "display_data"
    }
   ],
   "source": [
    "import sympy as sp\n",
    "from IPython.display import display, Math, Markdown\n",
    "\n",
    "s = sp.symbols('s', complex=True)\n",
    "\n",
    "def T_R_serie(R):\n",
    "    return sp.Matrix([[1,R],\n",
    "                      [0,1]])\n",
    "def T_L_serie(L):\n",
    "    return sp.Matrix([[1,L*s],\n",
    "                      [0,1]])\n",
    "def T_C_serie(C):\n",
    "    return sp.Matrix([[1,1/(C*s)],\n",
    "                      [0,1]])\n",
    "def T_LC_serie(L,C):\n",
    "    return sp.Matrix([[1,1/(C*s + 1/(L*s))],\n",
    "                      [0,1]])\n",
    "def T_RC_serie(R,C):\n",
    "    return sp.Matrix([[1,1/(C*s + 1/R)],\n",
    "                      [0,1]])\n",
    "\n",
    "    \n",
    "def T_R_deriv(R):\n",
    "    return sp.Matrix([[1,0],\n",
    "                      [1/R,1]])\n",
    "def T_L_deriv(L):\n",
    "    return sp.Matrix([[1,0],\n",
    "                      [1/(L*s),1]])\n",
    "def T_C_deriv(C):\n",
    "    return sp.Matrix([[1,0],\n",
    "                      [C*s,1]])\n",
    "def T_LC_deriv(L,C):\n",
    "    return sp.Matrix([[1,0],\n",
    "                      [1/(L*s + 1/(C*s)),1]])\n",
    "def T_RC_deriv(R,C):\n",
    "    return sp.Matrix([[1,0],\n",
    "                      [1/(1/(C*s) + R),1]])\n",
    "\n",
    "RL = sp.Rational('1')\n",
    "R1 = sp.Rational('2')\n",
    "C1 = sp.Rational('1/8')\n",
    "R2 = sp.Rational('10')\n",
    "C2 = sp.Rational('1/10')\n",
    "R3 = sp.Rational('5')\n",
    "\n",
    "T = T_R_deriv(R3)*T_RC_serie(R2, C2)*T_RC_serie(R1, C1)*T_R_serie(RL)\n",
    "\n",
    "T_I = (1/T[1,1]).simplify().factor()\n",
    "\n",
    "display(Math('$$ \\\\frac{-I_2}{I_1} = ' + sp.latex(T_I) + '$$'))\n",
    "\n",
    "\n",
    "\n"
   ]
  },
  {
   "cell_type": "markdown",
   "id": "2d0b84ab-9286-4adf-bb22-d9da66b302c4",
   "metadata": {},
   "source": [
    "## Simulación circuital"
   ]
  },
  {
   "cell_type": "markdown",
   "id": "ce3f91d6-332e-462e-8784-1455ce4b3a19",
   "metadata": {},
   "source": [
    "<p align=\"left\">\n",
    "  <img src=\"./sim1_sch.png\" width=600/>\n",
    "</p>\n",
    "\n",
    "<p align=\"left\">\n",
    "  <img src=\"./sim1_plt.png\" width=600/>\n",
    "</p>\n"
   ]
  },
  {
   "cell_type": "markdown",
   "id": "7219ba30-b054-47ad-9a71-3dd192c03e98",
   "metadata": {},
   "source": [
    "Al tener los polos y ceros ubicados en el eje real (Q bajo), y al estar tan cercanos entre si, no se pueden ver claramente en la respuesta de frecuencia en la simulacion."
   ]
  },
  {
   "cell_type": "markdown",
   "id": "e12fa08a-1518-41cd-abb5-3c06c582b2c8",
   "metadata": {},
   "source": [
    "# Problema 2\n",
    "\n",
    "## Punto 2a: Sintesis del cuadripolo\n",
    "\n",
    "### Cálculo de parametros $Z_{11}$ y $Z_{21}$ del cuadripolo\n",
    "\n",
    "<p align=\"left\">\n",
    "  <img src=\"./ej2_1.png\" width=600/>\n",
    "</p>"
   ]
  },
  {
   "cell_type": "markdown",
   "id": "9df5ca2f-5e98-42df-a144-177abbeeb81f",
   "metadata": {},
   "source": [
    "## Obtención de topologia por el método gráfico\n",
    "\n",
    "<p align=\"left\">\n",
    "  <img src=\"./ej2_2.png\" width=600/>\n",
    "</p>\n",
    "\n"
   ]
  },
  {
   "cell_type": "markdown",
   "id": "c0486935-41fe-4017-8b00-9819c06e1586",
   "metadata": {},
   "source": [
    "## Resolución analitica\n",
    "\n",
    "\n",
    "<p align=\"left\">\n",
    "  <img src=\"./ej2_3.png\" width=600/>\n",
    "</p>\n"
   ]
  },
  {
   "cell_type": "markdown",
   "id": "fef8273b-86e2-4338-8fb6-4d5c2d296a00",
   "metadata": {},
   "source": [
    "## Punto 2b: Verificación mediante parametros T\n",
    "\n",
    "\n",
    "<p align=\"left\">\n",
    "  <img src=\"./ej2_4.png\" width=600/>\n",
    "</p>\n",
    "\n",
    "### Verificacion con sympy"
   ]
  },
  {
   "cell_type": "code",
   "execution_count": 2,
   "id": "2d136da8-a3cd-4fe7-a801-5a9c6b6d4655",
   "metadata": {
    "tags": []
   },
   "outputs": [
    {
     "data": {
      "text/latex": [
       "$\\displaystyle  \\frac{-I_2}{I_1} = \\frac{s^{2} + 9}{9 \\left(s^{3} + 2 s^{2} + 2 s + 1\\right)}$"
      ],
      "text/plain": [
       "<IPython.core.display.Math object>"
      ]
     },
     "metadata": {},
     "output_type": "display_data"
    }
   ],
   "source": [
    "RL = sp.Rational('1')\n",
    "C1 = sp.Rational('7/17')\n",
    "L1 = sp.Rational('289/243')\n",
    "C2 = sp.Rational('27/289')\n",
    "C3 = sp.Rational('27/17')\n",
    "\n",
    "T = T_C_deriv(C3)*T_LC_serie(L1, C2)*T_C_deriv(C1)*T_R_deriv(RL)\n",
    "\n",
    "T_I = (1/T[1,0]).simplify()\n",
    "\n",
    "display(Math('$$ \\\\frac{-I_2}{I_1} = ' + sp.latex(T_I) + '$$'))\n"
   ]
  },
  {
   "cell_type": "markdown",
   "id": "596de8e4-5096-4d4d-af49-59d0a0e0de9d",
   "metadata": {},
   "source": [
    "## Simulación circuital\n",
    "\n",
    "<p align=\"left\">\n",
    "  <img src=\"./sim2_sch.png\" width=600/>\n",
    "</p>\n",
    "\n",
    "<p align=\"left\">\n",
    "  <img src=\"./sim2_plt.png\" width=600/>\n",
    "</p>"
   ]
  },
  {
   "cell_type": "markdown",
   "id": "332f8f50-23cf-4a77-b774-15f80c7592ec",
   "metadata": {},
   "source": [
    "En la banda de paso se puede apreciar la maxima planicidad tambien se puede ver el cero de transferencia en $\\dfrac{3}{2\\pi} \\approx 477\\mathrm{mHz}$ "
   ]
  }
 ],
 "metadata": {
  "kernelspec": {
   "display_name": "Python 3 (ipykernel)",
   "language": "python",
   "name": "python3"
  },
  "language_info": {
   "codemirror_mode": {
    "name": "ipython",
    "version": 3
   },
   "file_extension": ".py",
   "mimetype": "text/x-python",
   "name": "python",
   "nbconvert_exporter": "python",
   "pygments_lexer": "ipython3",
   "version": "3.11.0"
  }
 },
 "nbformat": 4,
 "nbformat_minor": 5
}
