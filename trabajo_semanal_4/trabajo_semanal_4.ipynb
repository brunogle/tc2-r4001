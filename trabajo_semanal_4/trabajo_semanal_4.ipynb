{
 "cells": [
  {
   "cell_type": "markdown",
   "metadata": {},
   "source": [
    "<p align=\"left\">\n",
    "  <img src=\"./logo_UTN.svg\" />\n",
    "</p>\n",
    "\n",
    "\n",
    "# **Teoría de Circuitos II - R4001 - 2023**\n",
    "## Trabajo Semanal 4\n",
    "### Autor: Bruno Glecer"
   ]
  },
  {
   "cell_type": "markdown",
   "metadata": {},
   "source": [
    "# Consigna\n",
    "\n",
    "La tarea semanal consiste en diseñar un filtro pasa-altos que respete la siguiente plantilla.\n",
    "\n",
    "<div>\n",
    "    <img src=\"plantilla.png\" width=\"400\"/>\n",
    "</div>\n",
    "\n",
    "Donde los parametros son los siguientes:\n",
    "- $\\large\\alpha_{max} = 1\\mathrm{dB}$\n",
    "- $\\large\\alpha_{min} = 30\\mathrm{dB}$\n",
    "- $\\large f_{p} = 40\\mathrm{kHz}$\n",
    "- $\\large f_{s} = 10\\mathrm{kHz}$\n",
    "\n",
    "Se piden las siguientes consignas:\n",
    "\n",
    "1. Obtener la transferencia de máxima planicidad del filtro requerido.\n",
    "2. Obtener el diagrama de polos y ceros, y un bosquejo de la respuesta en frecuencia. Compare el diagrama de polos y ceros con el del filtro pasabajo prototipo.\n",
    "3. Implementar el circuito normalizado con estructuras pasivas. (Puede utilizar dispositivos activos para separar secciones).\n",
    "4. Reemplace los inductores en las estructuras pasivas mediante el GIC de Antoniou, en la configuración que considere más apropiada.\n",
    "\n"
   ]
  },
  {
   "cell_type": "markdown",
   "metadata": {},
   "source": [
    "# 1. Transferencia\n",
    "\n",
    "Comenzamos normalizando el filtro usando $\\omega_p$ como norma y utilizamos el nucleo $p = K(s) = \\frac{1}{s}$"
   ]
  },
  {
   "cell_type": "code",
   "execution_count": 1,
   "metadata": {},
   "outputs": [
    {
     "name": "stdout",
     "output_type": "stream",
     "text": [
      "wp_lp = 1.0    ws_lp = 4.0\n"
     ]
    }
   ],
   "source": [
    "import numpy as np\n",
    "\n",
    "#Normalizacion de valores\n",
    "\n",
    "wp = 40*10**3\n",
    "ws = 10*10**3\n",
    "alpha_max = 1\n",
    "alpha_min = 30\n",
    "\n",
    "norma_w = wp\n",
    "\n",
    "wp_n = wp/norma_w\n",
    "ws_n = ws/norma_w\n",
    "\n",
    "\n",
    "#Aplicacion del nucleo de transformacion\n",
    "\n",
    "wp_lp = 1.0/wp_n\n",
    "ws_lp = 1.0/ws_n\n",
    "\n",
    "print(f\"wp_lp = {wp_lp}    ws_lp = {ws_lp}\")"
   ]
  },
  {
   "cell_type": "markdown",
   "metadata": {},
   "source": [
    "Continuamos encontrando la función de transferencia del filtro prototipo low-pass.\n",
    "\n",
    "Al ser un filtro de máxima planicidad, el filtro low pass tendra una función de transferencia de potencia:\n",
    "\n",
    "$|T_{LP}(\\Omega)|^2 = \\dfrac{1}{1 + \\varepsilon^2 \\Omega^{2n}}$"
   ]
  },
  {
   "cell_type": "code",
   "execution_count": 2,
   "metadata": {},
   "outputs": [
    {
     "name": "stdout",
     "output_type": "stream",
     "text": [
      "epsilon = 0.5088471399095875    n = 3\n"
     ]
    }
   ],
   "source": [
    "#Calculo de epsilon\n",
    "\n",
    "epsilon = np.sqrt(10**(alpha_max/10) - 1)\n",
    "\n",
    "#Calculo de orden\n",
    "\n",
    "n = 1\n",
    "\n",
    "while (10*np.log10(1 + epsilon**2 * ws_lp ** (2*n))) < alpha_min:\n",
    "    n += 1\n",
    "\n",
    "print(f\"epsilon = {epsilon}    n = {n}\")"
   ]
  },
  {
   "cell_type": "markdown",
   "metadata": {},
   "source": [
    "Seguimos buscando las raices de la funcion de transferencia de potencia de este prototipo y separando los polos que esten en el semiplano compljeo izquierdo ($\\Sigma < 0$)"
   ]
  },
  {
   "cell_type": "code",
   "execution_count": 3,
   "metadata": {},
   "outputs": [
    {
     "name": "stdout",
     "output_type": "stream",
     "text": [
      "Polos de transferencia: [-0.76319398+0.j         -0.23583991+0.72584061j -0.23583991-0.72584061j]\n"
     ]
    }
   ],
   "source": [
    "den_tlp2 = np.zeros(2*n)\n",
    "den_tlp2[0] = 1\n",
    "den_tlp2[2*n - 1] = epsilon**2\n",
    "\n",
    "polos_tlp2 = np.roots(den_tlp2)\n",
    "polos_tlp = polos_tlp2[np.real(polos_tlp2) < 0]\n",
    "\n",
    "print(f\"Polos de transferencia: {polos_tlp}\")"
   ]
  },
  {
   "cell_type": "markdown",
   "metadata": {},
   "source": [
    "Utilizando estos polos, que consisten de dos polos conjugados y un polo en el eje real, puedo construir mi funcion de transferencia del prototipo para que cumpla $|T_{LP}(p)|^2 = T_{LP}(p) \\cdot T_{LP}(-p)$ "
   ]
  },
  {
   "cell_type": "code",
   "execution_count": 4,
   "metadata": {},
   "outputs": [
    {
     "name": "stdout",
     "output_type": "stream",
     "text": [
      "Transferencia T_LP(p): \n"
     ]
    },
    {
     "data": {
      "text/latex": [
       "$\\displaystyle \\frac{  1 }{s^3 + s^2 \\,\\, 1.235 + s \\,\\, 0.9424 + 0.4445 }$"
      ],
      "text/plain": [
       "<IPython.core.display.Math object>"
      ]
     },
     "metadata": {},
     "output_type": "display_data"
    },
    {
     "data": {
      "text/latex": [
       "$\\displaystyle \\frac{2.2495476385401 s^{3}}{1.0 s^{3} + 2.12008222621325 s^{2} + 2.77790743405706 s + 2.2495476385401}$"
      ],
      "text/plain": [
       "2.2495476385401*s**3/(1.0*s**3 + 2.12008222621325*s**2 + 2.77790743405706*s + 2.2495476385401)"
      ]
     },
     "execution_count": 4,
     "metadata": {},
     "output_type": "execute_result"
    }
   ],
   "source": [
    "from scipy import signal\n",
    "from pytc2.sistemas_lineales import analyze_sys, pretty_print_bicuad_omegayq,tfcascade,pretty_print_lti\n",
    "from sympy.abc import p, s, T\n",
    "import sympy\n",
    "from IPython.display import display\n",
    "#Calculo transferencia del prototipo\n",
    "\n",
    "t_lp_num = [1]\n",
    "t_lp_den = np.poly(polos_tlp)\n",
    "t_lp_den /= t_lp_den[0]\n",
    "t_lp_num /= t_lp_den[0]\n",
    "\n",
    "print(\"Transferencia T_LP(p): \")\n",
    "\n",
    "pretty_print_lti(t_lp_num,t_lp_den)\n",
    "\n",
    "#Calculo trasnferencia del objetivo\n",
    "\n",
    "t_lp = sympy.Eq(T, sympy.Poly(t_lp_num, p)/sympy.Poly(t_lp_den, p))\n",
    "\n",
    "nucleo_p_s = sympy.Eq(p, 1/s) #Nucleo de transformacion\n",
    "\n",
    "t_hp = sympy.solve([t_lp, nucleo_p_s], [T, p], dict=True)[0][T]\n",
    "\n",
    "t_hp_num = sympy.fraction(t_hp, s)[0]\n",
    "t_hp_den = sympy.fraction(t_hp, s)[1]\n",
    "\n",
    "t_hp_num = t_hp_num.as_poly(domain='C').as_expr()\n",
    "t_hp_den = t_hp_den.as_poly(domain='C').as_expr()\n",
    "\n",
    "t_hp_num /= t_hp_den.coeff(s,n)\n",
    "t_hp_den /= t_hp_den.coeff(s,n)\n",
    "\n",
    "t_hp = t_hp_num/t_hp_den\n",
    "\n",
    "t_hp"
   ]
  },
  {
   "cell_type": "code",
   "execution_count": 5,
   "metadata": {},
   "outputs": [
    {
     "data": {
      "text/plain": [
       "(array([1., 0., 0., 0.]), array([1., 2., 2., 1.]))"
      ]
     },
     "execution_count": 5,
     "metadata": {},
     "output_type": "execute_result"
    }
   ],
   "source": [
    "signal.butter(n, 1, btype='highpass', analog=True)\n",
    "\n",
    "#[x for (x,i) in zip(signal.butter(n, 1, btype='highpass', analog=True)[1], [0,1,2,3])]"
   ]
  }
 ],
 "metadata": {
  "kernelspec": {
   "display_name": "Python 3 (ipykernel)",
   "language": "python",
   "name": "python3"
  },
  "language_info": {
   "codemirror_mode": {
    "name": "ipython",
    "version": 3
   },
   "file_extension": ".py",
   "mimetype": "text/x-python",
   "name": "python",
   "nbconvert_exporter": "python",
   "pygments_lexer": "ipython3",
   "version": "3.11.3"
  }
 },
 "nbformat": 4,
 "nbformat_minor": 4
}
