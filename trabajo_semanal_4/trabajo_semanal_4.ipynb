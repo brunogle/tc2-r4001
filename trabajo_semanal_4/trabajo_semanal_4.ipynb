{
 "cells": [
  {
   "cell_type": "markdown",
   "metadata": {},
   "source": [
    "<p align=\"left\">\n",
    "  <img src=\"./logo_UTN.svg\" />\n",
    "</p>\n",
    "\n",
    "\n",
    "# **Teoría de Circuitos II - R4001 - 2023**\n",
    "## Trabajo Semanal 3\n",
    "### Autor: Bruno Glecer"
   ]
  },
  {
   "cell_type": "markdown",
   "metadata": {},
   "source": [
    "# Consigna\n",
    "\n",
    "La tarea semanal consiste en diseñar un filtro pasabajos que respete la siguiente plantilla.\n",
    "\n",
    "<div>\n",
    "    <img src=\"plantilla.png\" width=\"400\"/>\n",
    "</div>\n",
    "\n",
    "Donde los parametros son los siguientes:\n",
    "- $\\large\\alpha_{max} = 1\\mathrm{dB}$\n",
    "- $\\large\\alpha_{min} = 30\\mathrm{dB}$\n",
    "- $\\large f_{p} = 40\\mathrm{kHz}$\n",
    "- $\\large f_{s} = 10\\mathrm{kHz}$\n",
    "\n",
    "Se piden las siguientes consignas:\n",
    "\n",
    "1. Obtener la transferencia de máxima planicidad del filtro requerido.\n",
    "2. Obtener el diagrama de polos y ceros, y un bosquejo de la respuesta en frecuencia. Compare el diagrama de polos y ceros con el del filtro pasabajo prototipo.\n",
    "3. Implementar el circuito normalizado con estructuras pasivas. (Puede utilizar dispositivos activos para separar secciones).\n",
    "4. Reemplace los inductores en las estructuras pasivas mediante el GIC de Antoniou, en la configuración que considere más apropiada.\n",
    "\n"
   ]
  },
  {
   "cell_type": "markdown",
   "metadata": {},
   "source": [
    "# 1. Transferencia\n",
    "\n"
   ]
  }
 ],
 "metadata": {
  "kernelspec": {
   "display_name": "Python 3 (ipykernel)",
   "language": "python",
   "name": "python3"
  },
  "language_info": {
   "codemirror_mode": {
    "name": "ipython",
    "version": 3
   },
   "file_extension": ".py",
   "mimetype": "text/x-python",
   "name": "python",
   "nbconvert_exporter": "python",
   "pygments_lexer": "ipython3",
   "version": "3.11.3"
  }
 },
 "nbformat": 4,
 "nbformat_minor": 4
}
