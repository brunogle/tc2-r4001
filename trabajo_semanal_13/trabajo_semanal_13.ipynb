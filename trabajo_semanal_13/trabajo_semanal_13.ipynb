{
 "cells": [
  {
   "cell_type": "markdown",
   "id": "15e1d77f-dd54-42f8-80cc-0977c9bd3c62",
   "metadata": {},
   "source": [
    "<p align=\"left\">\n",
    "  <img src=\"./logo_UTN.svg\" />\n",
    "</p>\n",
    "\n",
    "\n",
    "# **Teoría de Circuitos II - R4001 - 2023**\n",
    "## Trabajo Semanal 13\n",
    "### Autor: Bruno Glecer\n",
    "\n",
    "# Consignas\n",
    "\n",
    "<p align=\"left\">\n",
    "  <img src=\"./consigna.png\" width=800/>\n",
    "</p>\n",
    "\n",
    "\n"
   ]
  },
  {
   "cell_type": "markdown",
   "id": "2fa4e83a-bad7-417b-ac53-0cf46d6e6332",
   "metadata": {},
   "source": [
    "# Punto 1: Impedancia de entrada del cuadripolo\n",
    "\n",
    "\n",
    "<p align=\"left\">\n",
    "  <img src=\"./ej1_1.png\" width=600/>\n",
    "</p>\n",
    "\n",
    "<p align=\"left\">\n",
    "  <img src=\"./ej1_2.png\" width=600/>\n",
    "</p>\n"
   ]
  },
  {
   "cell_type": "markdown",
   "id": "a8777d02-7f77-4deb-8c28-d2b250467341",
   "metadata": {},
   "source": [
    "\n",
    "# Punto 2: Impedancia de entrada del cuadripolo\n",
    "\n",
    "<p align=\"left\">\n",
    "  <img src=\"./ej2_1.png\" width=600/>\n",
    "</p>\n",
    "\n"
   ]
  },
  {
   "cell_type": "markdown",
   "id": "0faef83e-8de1-42af-8d00-960e8da2bcbd",
   "metadata": {},
   "source": [
    "# Punto 3: Simulacion circuital de paranetros $S_{21}$ y $S_{11}$\n",
    "\n",
    "<p align=\"left\">\n",
    "  <img src=\"./sim_sch.png\" width=600/>\n",
    "</p>\n",
    "\n",
    "<p align=\"left\">\n",
    "  <img src=\"./sim_plt.png\" width=600/>\n",
    "</p>\n"
   ]
  },
  {
   "cell_type": "markdown",
   "id": "1322509a-7807-4034-b7c4-2f784291cf5e",
   "metadata": {
    "tags": []
   },
   "source": [
    "# Punto 4: Interpretación de $S_{11}$\n",
    "\n",
    "### Banda de stop\n",
    "\n",
    "En la banda de stop (donde la frecuencia tiende a cero) el parametro $S_{11}$ tiende a $-\\infty$dB, es decir, que no refleja señal. Esto es lo esperable ya que los inductores actuan como un camino de muy baja impedancia entre la entrada y la carga. Tampoco hay corriente circulando por el capacitor, efectivamente acoplando el generador a una carga adaptada.\n",
    "\n",
    "### Frecuencia de corte\n",
    "\n",
    "La frecuencia de corte se define como el punto en donde la transferencia directa ($S_{21}$) cruza los -3dB, se puede ver como en este punto, el parametro $S_{11}$ tambien toma el valor de -3dB. Esto no es casualidad, se puede explicar porque este es el punto en donde la mitad de la potencia es reflejada, y la otra mitad es transferida hacia la carga.\n",
    "\n",
    "### Banda de stop\n",
    "\n",
    "En la banda de stop (donde la frecuencia tiende a infinito) el parametro $S_{11}$ tiende hacia 0dB, es decir que la onda es completamente reflejada hacia el generador. Esto se puede explicar debido a que el primer inductor actua como un circuito abierto para frecuencias muy altas, entonces a la señal le es imposible transmitirse a la salida.\n"
   ]
  },
  {
   "cell_type": "markdown",
   "id": "7132b13c-9f57-47be-9239-8ca5daa64744",
   "metadata": {},
   "source": [
    "# Punto 5: Desnormalización a 10MHz y 50$\\Omega$\n",
    "\n",
    "Utilizando las ecuaciones de desnormalización, se puede modificar el circuito para que las resistencias del generador y de carga sean $50\\Omega$ y la frecuencia de corte sea 10MHz\n",
    "\n",
    "\n",
    "$C_1^* = \\dfrac{C_1}{R_0 \\omega_0} = 175\\mathrm{pF}$\n",
    "\n",
    "$L_1^* = \\dfrac{R_0 L_1}{\\omega_0} = 998\\mathrm{nH}$\n",
    "\n",
    "$L_2^* = \\dfrac{R_0 L_2}{\\omega_0} = 152\\mathrm{nH}$\n",
    "\n",
    "Donde $R_0 = 50\\Omega$ y $\\omega_0 = 2\\pi \\cdot 10\\mathrm{MHz}$\n",
    "\n",
    "<p align=\"left\">\n",
    "  <img src=\"./sim2_sch.png\" width=600/>\n",
    "</p>\n",
    "\n",
    "<p align=\"left\">\n",
    "  <img src=\"./sim2_plt.png\" width=600/>\n",
    "</p>"
   ]
  },
  {
   "cell_type": "markdown",
   "id": "4a7f3143-133c-4da1-927d-bc3db8ba8995",
   "metadata": {},
   "source": [
    "La transferencia es similar, solo que desplazada hacia altas frecuencias. El punto de -3dB no coincide con los 10MHz, ya que los filtros Bessel no son diseñados tienendo en cuenta el modulo."
   ]
  }
 ],
 "metadata": {
  "kernelspec": {
   "display_name": "Python 3 (ipykernel)",
   "language": "python",
   "name": "python3"
  },
  "language_info": {
   "codemirror_mode": {
    "name": "ipython",
    "version": 3
   },
   "file_extension": ".py",
   "mimetype": "text/x-python",
   "name": "python",
   "nbconvert_exporter": "python",
   "pygments_lexer": "ipython3",
   "version": "3.11.0"
  }
 },
 "nbformat": 4,
 "nbformat_minor": 5
}
